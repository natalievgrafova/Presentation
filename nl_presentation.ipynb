{
 "cells": [
  {
   "cell_type": "code",
   "execution_count": 72,
   "metadata": {},
   "outputs": [],
   "source": [
    "import pandas as pd"
   ]
  },
  {
   "cell_type": "code",
   "execution_count": 73,
   "metadata": {},
   "outputs": [],
   "source": [
    "from textblob import TextBlob \n",
    "from textblob import Blobber\n",
    "from textblob_fr import PatternTagger, PatternAnalyzer\n",
    "from textblob_nl import PatternTagger, PatternAnalyzer\n",
    "tb_fr = Blobber(pos_tagger=PatternTagger(), analyzer=PatternAnalyzer())\n"
   ]
  },
  {
   "cell_type": "code",
   "execution_count": 74,
   "metadata": {},
   "outputs": [],
   "source": [
    "df = pd.read_csv('clean_french_data.csv')"
   ]
  },
  {
   "cell_type": "code",
   "execution_count": 75,
   "metadata": {},
   "outputs": [],
   "source": [
    "df = df[['title', 'text', 'date', 'url', '_id']]"
   ]
  },
  {
   "cell_type": "code",
   "execution_count": 76,
   "metadata": {},
   "outputs": [
    {
     "data": {
      "text/html": [
       "<div>\n",
       "<style scoped>\n",
       "    .dataframe tbody tr th:only-of-type {\n",
       "        vertical-align: middle;\n",
       "    }\n",
       "\n",
       "    .dataframe tbody tr th {\n",
       "        vertical-align: top;\n",
       "    }\n",
       "\n",
       "    .dataframe thead th {\n",
       "        text-align: right;\n",
       "    }\n",
       "</style>\n",
       "<table border=\"1\" class=\"dataframe\">\n",
       "  <thead>\n",
       "    <tr style=\"text-align: right;\">\n",
       "      <th></th>\n",
       "      <th>title</th>\n",
       "      <th>text</th>\n",
       "      <th>date</th>\n",
       "      <th>url</th>\n",
       "      <th>_id</th>\n",
       "    </tr>\n",
       "  </thead>\n",
       "  <tbody>\n",
       "    <tr>\n",
       "      <th>0</th>\n",
       "      <td>La qualité de l’air en nette amélioration à Br...</td>\n",
       "      <td>Les concentrations de différents polluants rel...</td>\n",
       "      <td>2020-05-22T04:22:52.000Z</td>\n",
       "      <td>https://plus.lesoir.be/302282/article/2020-05-...</td>\n",
       "      <td>5ec760320e5c92500d004aee</td>\n",
       "    </tr>\n",
       "    <tr>\n",
       "      <th>1</th>\n",
       "      <td>Coronavirus à Bruxelles : on respire mieux grâ...</td>\n",
       "      <td>L’amélioration de la qualité de l’air bruxello...</td>\n",
       "      <td>2020-05-22T04:37:03.000Z</td>\n",
       "      <td>https://www.rtbf.be/info/regions/detail_corona...</td>\n",
       "      <td>5ec7603216193c3860cf1616</td>\n",
       "    </tr>\n",
       "    <tr>\n",
       "      <th>2</th>\n",
       "      <td>La Chambre vote une résolution encadrant l’usa...</td>\n",
       "      <td>La résolution pose plusieurs principes tel que...</td>\n",
       "      <td>2020-05-20T19:36:26.000Z</td>\n",
       "      <td>https://plus.lesoir.be/302121/article/2020-05-...</td>\n",
       "      <td>5ec76032039b233f9642aeb6</td>\n",
       "    </tr>\n",
       "    <tr>\n",
       "      <th>3</th>\n",
       "      <td>Plus de cinq millions de cas de Covid-19 dans ...</td>\n",
       "      <td>Le nouveau coronavirus a officiellement touché...</td>\n",
       "      <td>2020-05-21T21:01:32.000Z</td>\n",
       "      <td>https://plus.lesoir.be/302273/article/2020-05-...</td>\n",
       "      <td>5ec760320e5c92500d004af3</td>\n",
       "    </tr>\n",
       "    <tr>\n",
       "      <th>4</th>\n",
       "      <td>Coronavirus en Belgique : les ouvriers plus to...</td>\n",
       "      <td>Les résultats d’une enquête menée par le prest...</td>\n",
       "      <td>2020-05-22T04:00:00.000Z</td>\n",
       "      <td>https://www.rtbf.be/info/economie/detail_coron...</td>\n",
       "      <td>5ec7603216193c3860cf161f</td>\n",
       "    </tr>\n",
       "  </tbody>\n",
       "</table>\n",
       "</div>"
      ],
      "text/plain": [
       "                                               title  \\\n",
       "0  La qualité de l’air en nette amélioration à Br...   \n",
       "1  Coronavirus à Bruxelles : on respire mieux grâ...   \n",
       "2  La Chambre vote une résolution encadrant l’usa...   \n",
       "3  Plus de cinq millions de cas de Covid-19 dans ...   \n",
       "4  Coronavirus en Belgique : les ouvriers plus to...   \n",
       "\n",
       "                                                text  \\\n",
       "0  Les concentrations de différents polluants rel...   \n",
       "1  L’amélioration de la qualité de l’air bruxello...   \n",
       "2  La résolution pose plusieurs principes tel que...   \n",
       "3  Le nouveau coronavirus a officiellement touché...   \n",
       "4  Les résultats d’une enquête menée par le prest...   \n",
       "\n",
       "                       date  \\\n",
       "0  2020-05-22T04:22:52.000Z   \n",
       "1  2020-05-22T04:37:03.000Z   \n",
       "2  2020-05-20T19:36:26.000Z   \n",
       "3  2020-05-21T21:01:32.000Z   \n",
       "4  2020-05-22T04:00:00.000Z   \n",
       "\n",
       "                                                 url                       _id  \n",
       "0  https://plus.lesoir.be/302282/article/2020-05-...  5ec760320e5c92500d004aee  \n",
       "1  https://www.rtbf.be/info/regions/detail_corona...  5ec7603216193c3860cf1616  \n",
       "2  https://plus.lesoir.be/302121/article/2020-05-...  5ec76032039b233f9642aeb6  \n",
       "3  https://plus.lesoir.be/302273/article/2020-05-...  5ec760320e5c92500d004af3  \n",
       "4  https://www.rtbf.be/info/economie/detail_coron...  5ec7603216193c3860cf161f  "
      ]
     },
     "execution_count": 76,
     "metadata": {},
     "output_type": "execute_result"
    }
   ],
   "source": [
    "df.head()"
   ]
  },
  {
   "cell_type": "code",
   "execution_count": 77,
   "metadata": {},
   "outputs": [],
   "source": [
    "key_words_data = ['données personnelles','base des données', 'confidentialité','partager des données', 'accès aux données', 'réutilisation des données', 'utilisation des données', 'analyse des données', 'usage des données', 'protection des données']"
   ]
  },
  {
   "cell_type": "code",
   "execution_count": 78,
   "metadata": {},
   "outputs": [
    {
     "data": {
      "text/plain": [
       "'La Chambre vote une résolution encadrant l’usage éventuel d’une application pour smartphone'"
      ]
     },
     "execution_count": 78,
     "metadata": {},
     "output_type": "execute_result"
    }
   ],
   "source": [
    "df.iloc[2,0]"
   ]
  },
  {
   "cell_type": "code",
   "execution_count": 79,
   "metadata": {},
   "outputs": [
    {
     "data": {
      "text/html": [
       "<div>\n",
       "<style scoped>\n",
       "    .dataframe tbody tr th:only-of-type {\n",
       "        vertical-align: middle;\n",
       "    }\n",
       "\n",
       "    .dataframe tbody tr th {\n",
       "        vertical-align: top;\n",
       "    }\n",
       "\n",
       "    .dataframe thead th {\n",
       "        text-align: right;\n",
       "    }\n",
       "</style>\n",
       "<table border=\"1\" class=\"dataframe\">\n",
       "  <thead>\n",
       "    <tr style=\"text-align: right;\">\n",
       "      <th></th>\n",
       "      <th>title</th>\n",
       "      <th>text</th>\n",
       "      <th>date</th>\n",
       "      <th>url</th>\n",
       "      <th>_id</th>\n",
       "    </tr>\n",
       "  </thead>\n",
       "  <tbody>\n",
       "    <tr>\n",
       "      <th>0</th>\n",
       "      <td>La qualité de l’air en nette amélioration à Br...</td>\n",
       "      <td>Les concentrations de différents polluants rel...</td>\n",
       "      <td>2020-05-22T04:22:52.000Z</td>\n",
       "      <td>https://plus.lesoir.be/302282/article/2020-05-...</td>\n",
       "      <td>5ec760320e5c92500d004aee</td>\n",
       "    </tr>\n",
       "    <tr>\n",
       "      <th>1</th>\n",
       "      <td>Coronavirus à Bruxelles : on respire mieux grâ...</td>\n",
       "      <td>L’amélioration de la qualité de l’air bruxello...</td>\n",
       "      <td>2020-05-22T04:37:03.000Z</td>\n",
       "      <td>https://www.rtbf.be/info/regions/detail_corona...</td>\n",
       "      <td>5ec7603216193c3860cf1616</td>\n",
       "    </tr>\n",
       "    <tr>\n",
       "      <th>2</th>\n",
       "      <td>La Chambre vote une résolution encadrant l’usa...</td>\n",
       "      <td>La résolution pose plusieurs principes tel que...</td>\n",
       "      <td>2020-05-20T19:36:26.000Z</td>\n",
       "      <td>https://plus.lesoir.be/302121/article/2020-05-...</td>\n",
       "      <td>5ec76032039b233f9642aeb6</td>\n",
       "    </tr>\n",
       "    <tr>\n",
       "      <th>3</th>\n",
       "      <td>Plus de cinq millions de cas de Covid-19 dans ...</td>\n",
       "      <td>Le nouveau coronavirus a officiellement touché...</td>\n",
       "      <td>2020-05-21T21:01:32.000Z</td>\n",
       "      <td>https://plus.lesoir.be/302273/article/2020-05-...</td>\n",
       "      <td>5ec760320e5c92500d004af3</td>\n",
       "    </tr>\n",
       "    <tr>\n",
       "      <th>4</th>\n",
       "      <td>Coronavirus en Belgique : les ouvriers plus to...</td>\n",
       "      <td>Les résultats d’une enquête menée par le prest...</td>\n",
       "      <td>2020-05-22T04:00:00.000Z</td>\n",
       "      <td>https://www.rtbf.be/info/economie/detail_coron...</td>\n",
       "      <td>5ec7603216193c3860cf161f</td>\n",
       "    </tr>\n",
       "  </tbody>\n",
       "</table>\n",
       "</div>"
      ],
      "text/plain": [
       "                                               title  \\\n",
       "0  La qualité de l’air en nette amélioration à Br...   \n",
       "1  Coronavirus à Bruxelles : on respire mieux grâ...   \n",
       "2  La Chambre vote une résolution encadrant l’usa...   \n",
       "3  Plus de cinq millions de cas de Covid-19 dans ...   \n",
       "4  Coronavirus en Belgique : les ouvriers plus to...   \n",
       "\n",
       "                                                text  \\\n",
       "0  Les concentrations de différents polluants rel...   \n",
       "1  L’amélioration de la qualité de l’air bruxello...   \n",
       "2  La résolution pose plusieurs principes tel que...   \n",
       "3  Le nouveau coronavirus a officiellement touché...   \n",
       "4  Les résultats d’une enquête menée par le prest...   \n",
       "\n",
       "                       date  \\\n",
       "0  2020-05-22T04:22:52.000Z   \n",
       "1  2020-05-22T04:37:03.000Z   \n",
       "2  2020-05-20T19:36:26.000Z   \n",
       "3  2020-05-21T21:01:32.000Z   \n",
       "4  2020-05-22T04:00:00.000Z   \n",
       "\n",
       "                                                 url                       _id  \n",
       "0  https://plus.lesoir.be/302282/article/2020-05-...  5ec760320e5c92500d004aee  \n",
       "1  https://www.rtbf.be/info/regions/detail_corona...  5ec7603216193c3860cf1616  \n",
       "2  https://plus.lesoir.be/302121/article/2020-05-...  5ec76032039b233f9642aeb6  \n",
       "3  https://plus.lesoir.be/302273/article/2020-05-...  5ec760320e5c92500d004af3  \n",
       "4  https://www.rtbf.be/info/economie/detail_coron...  5ec7603216193c3860cf161f  "
      ]
     },
     "execution_count": 79,
     "metadata": {},
     "output_type": "execute_result"
    }
   ],
   "source": [
    "df.head()"
   ]
  },
  {
   "cell_type": "code",
   "execution_count": 80,
   "metadata": {},
   "outputs": [
    {
     "data": {
      "text/plain": [
       "45158"
      ]
     },
     "execution_count": 80,
     "metadata": {},
     "output_type": "execute_result"
    }
   ],
   "source": [
    "len(df)"
   ]
  },
  {
   "cell_type": "code",
   "execution_count": 81,
   "metadata": {},
   "outputs": [],
   "source": [
    "list_data = []\n",
    "for row in range(len(df)):\n",
    "    if any(word in str(df.iloc[row, 1]) for word in key_words_data):\n",
    "        if str(df.iloc[row, 1]) not in list_data:\n",
    "            list_data.append(str(df.iloc[row, 1]))"
   ]
  },
  {
   "cell_type": "code",
   "execution_count": 82,
   "metadata": {},
   "outputs": [
    {
     "data": {
      "text/plain": [
       "5434"
      ]
     },
     "execution_count": 82,
     "metadata": {},
     "output_type": "execute_result"
    }
   ],
   "source": [
    "len(list_data)"
   ]
  },
  {
   "cell_type": "code",
   "execution_count": 83,
   "metadata": {},
   "outputs": [
    {
     "data": {
      "text/plain": [
       "'En 2013, Google créait une nouvelle filiale, Calico. Son but, un brin ambitieux : « tuer la mort ». Dit autrement, lutter contre le vieillissement en ressuscitant le vieux fantasme de transhumanisme consistant à « augmenter » l’humain grâce à la technologie. Calico ne donne aujourd’hui plus signe de vie. Mais entre-temps, Google a conclu un accord controversé avec 150 hôpitaux aux Etats-Unis lui offrant un accès aux données médicales de millions de patients. En 2014, elle rachetait Deepmind pour 628 millions de dollars. La branche « Intelligence artificielle » de Google utilise les données sur les génomes pour prédire la structure des protéines des organismes, ce qui pourrait permettre de dégager une réponse thérapeutique au Covid-19.'"
      ]
     },
     "execution_count": 83,
     "metadata": {},
     "output_type": "execute_result"
    }
   ],
   "source": [
    "list_data[1]"
   ]
  },
  {
   "cell_type": "code",
   "execution_count": 84,
   "metadata": {},
   "outputs": [],
   "source": [
    "df = df[df['text'].isin(list_data)]"
   ]
  },
  {
   "cell_type": "code",
   "execution_count": 85,
   "metadata": {},
   "outputs": [],
   "source": [
    "def get_polarity_fr(doc):\n",
    "        polarity = tb_fr(doc).sentiment[0]\n",
    "        return polarity"
   ]
  },
  {
   "cell_type": "code",
   "execution_count": null,
   "metadata": {},
   "outputs": [],
   "source": []
  },
  {
   "cell_type": "code",
   "execution_count": 86,
   "metadata": {},
   "outputs": [
    {
     "data": {
      "text/html": [
       "<div>\n",
       "<style scoped>\n",
       "    .dataframe tbody tr th:only-of-type {\n",
       "        vertical-align: middle;\n",
       "    }\n",
       "\n",
       "    .dataframe tbody tr th {\n",
       "        vertical-align: top;\n",
       "    }\n",
       "\n",
       "    .dataframe thead th {\n",
       "        text-align: right;\n",
       "    }\n",
       "</style>\n",
       "<table border=\"1\" class=\"dataframe\">\n",
       "  <thead>\n",
       "    <tr style=\"text-align: right;\">\n",
       "      <th></th>\n",
       "      <th>title</th>\n",
       "      <th>text</th>\n",
       "      <th>date</th>\n",
       "      <th>url</th>\n",
       "      <th>_id</th>\n",
       "    </tr>\n",
       "  </thead>\n",
       "  <tbody>\n",
       "    <tr>\n",
       "      <th>5</th>\n",
       "      <td>9 millions de clients concernés par une cybera...</td>\n",
       "      <td>Dans un faible nombre de cas, les pirates ont ...</td>\n",
       "      <td>2020-05-19T11:53:50.000Z</td>\n",
       "      <td>https://plus.lesoir.be/301778/article/2020-05-...</td>\n",
       "      <td>5ec760338ae8910eece4965c</td>\n",
       "    </tr>\n",
       "    <tr>\n",
       "      <th>6</th>\n",
       "      <td>«Docteur Google» va-t-il sauver le monde?</td>\n",
       "      <td>En 2013, Google créait une nouvelle filiale, C...</td>\n",
       "      <td>2020-05-16T10:04:58.000Z</td>\n",
       "      <td>https://plus.lesoir.be/301269/article/2020-05-...</td>\n",
       "      <td>5ec760338ae8910eece4965f</td>\n",
       "    </tr>\n",
       "    <tr>\n",
       "      <th>10</th>\n",
       "      <td>Gafam: le casse du siècle</td>\n",
       "      <td>Quand le monde physique est à l’arrêt, le virt...</td>\n",
       "      <td>2020-05-09T04:00:00.000Z</td>\n",
       "      <td>https://plus.lesoir.be/299710/article/2020-05-...</td>\n",
       "      <td>5ec760338c227f981359e4d3</td>\n",
       "    </tr>\n",
       "    <tr>\n",
       "      <th>14</th>\n",
       "      <td>UClouvain : des tests avec bugs et des étudian...</td>\n",
       "      <td>C’est une session d’examens inédite qui se pré...</td>\n",
       "      <td>2020-05-21T13:15:39.000Z</td>\n",
       "      <td>https://www.rtbf.be/info/regions/detail_uclouv...</td>\n",
       "      <td>5ec7603416193c3860cf1659</td>\n",
       "    </tr>\n",
       "    <tr>\n",
       "      <th>15</th>\n",
       "      <td>Traçage de contacts: Google et Apple mettent à...</td>\n",
       "      <td>Les américains Apple et Google ont mis à la di...</td>\n",
       "      <td>2020-05-20T20:17:35.000Z</td>\n",
       "      <td>https://www.lalibre.be/economie/digital/tracag...</td>\n",
       "      <td>5ec76034a34eca094d2ced09</td>\n",
       "    </tr>\n",
       "  </tbody>\n",
       "</table>\n",
       "</div>"
      ],
      "text/plain": [
       "                                                title  \\\n",
       "5   9 millions de clients concernés par une cybera...   \n",
       "6           «Docteur Google» va-t-il sauver le monde?   \n",
       "10                          Gafam: le casse du siècle   \n",
       "14  UClouvain : des tests avec bugs et des étudian...   \n",
       "15  Traçage de contacts: Google et Apple mettent à...   \n",
       "\n",
       "                                                 text  \\\n",
       "5   Dans un faible nombre de cas, les pirates ont ...   \n",
       "6   En 2013, Google créait une nouvelle filiale, C...   \n",
       "10  Quand le monde physique est à l’arrêt, le virt...   \n",
       "14  C’est une session d’examens inédite qui se pré...   \n",
       "15  Les américains Apple et Google ont mis à la di...   \n",
       "\n",
       "                        date  \\\n",
       "5   2020-05-19T11:53:50.000Z   \n",
       "6   2020-05-16T10:04:58.000Z   \n",
       "10  2020-05-09T04:00:00.000Z   \n",
       "14  2020-05-21T13:15:39.000Z   \n",
       "15  2020-05-20T20:17:35.000Z   \n",
       "\n",
       "                                                  url  \\\n",
       "5   https://plus.lesoir.be/301778/article/2020-05-...   \n",
       "6   https://plus.lesoir.be/301269/article/2020-05-...   \n",
       "10  https://plus.lesoir.be/299710/article/2020-05-...   \n",
       "14  https://www.rtbf.be/info/regions/detail_uclouv...   \n",
       "15  https://www.lalibre.be/economie/digital/tracag...   \n",
       "\n",
       "                         _id  \n",
       "5   5ec760338ae8910eece4965c  \n",
       "6   5ec760338ae8910eece4965f  \n",
       "10  5ec760338c227f981359e4d3  \n",
       "14  5ec7603416193c3860cf1659  \n",
       "15  5ec76034a34eca094d2ced09  "
      ]
     },
     "execution_count": 86,
     "metadata": {},
     "output_type": "execute_result"
    }
   ],
   "source": [
    "df.head()"
   ]
  },
  {
   "cell_type": "code",
   "execution_count": 132,
   "metadata": {},
   "outputs": [],
   "source": [
    "polarity_list = []\n",
    "for row in range(len(df)): \n",
    "    polarity_list.append(round(get_polarity_fr(str(df.iloc[row,1])),5))\n",
    "    "
   ]
  },
  {
   "cell_type": "code",
   "execution_count": 129,
   "metadata": {},
   "outputs": [
    {
     "data": {
      "text/plain": [
       "[0.0, -0.7, 0.7, 0.23333]"
      ]
     },
     "execution_count": 129,
     "metadata": {},
     "output_type": "execute_result"
    }
   ],
   "source": [
    "polarity_list[:4]"
   ]
  },
  {
   "cell_type": "code",
   "execution_count": 133,
   "metadata": {},
   "outputs": [
    {
     "data": {
      "text/html": [
       "<div>\n",
       "<style scoped>\n",
       "    .dataframe tbody tr th:only-of-type {\n",
       "        vertical-align: middle;\n",
       "    }\n",
       "\n",
       "    .dataframe tbody tr th {\n",
       "        vertical-align: top;\n",
       "    }\n",
       "\n",
       "    .dataframe thead th {\n",
       "        text-align: right;\n",
       "    }\n",
       "</style>\n",
       "<table border=\"1\" class=\"dataframe\">\n",
       "  <thead>\n",
       "    <tr style=\"text-align: right;\">\n",
       "      <th></th>\n",
       "      <th>title</th>\n",
       "      <th>text</th>\n",
       "      <th>date</th>\n",
       "      <th>url</th>\n",
       "      <th>_id</th>\n",
       "      <th>polarity</th>\n",
       "    </tr>\n",
       "  </thead>\n",
       "  <tbody>\n",
       "    <tr>\n",
       "      <th>5</th>\n",
       "      <td>9 millions de clients concernés par une cybera...</td>\n",
       "      <td>Dans un faible nombre de cas, les pirates ont ...</td>\n",
       "      <td>2020-05-19T11:53:50.000Z</td>\n",
       "      <td>https://plus.lesoir.be/301778/article/2020-05-...</td>\n",
       "      <td>5ec760338ae8910eece4965c</td>\n",
       "      <td>0.000000</td>\n",
       "    </tr>\n",
       "    <tr>\n",
       "      <th>6</th>\n",
       "      <td>«Docteur Google» va-t-il sauver le monde?</td>\n",
       "      <td>En 2013, Google créait une nouvelle filiale, C...</td>\n",
       "      <td>2020-05-16T10:04:58.000Z</td>\n",
       "      <td>https://plus.lesoir.be/301269/article/2020-05-...</td>\n",
       "      <td>5ec760338ae8910eece4965f</td>\n",
       "      <td>-0.700000</td>\n",
       "    </tr>\n",
       "    <tr>\n",
       "      <th>10</th>\n",
       "      <td>Gafam: le casse du siècle</td>\n",
       "      <td>Quand le monde physique est à l’arrêt, le virt...</td>\n",
       "      <td>2020-05-09T04:00:00.000Z</td>\n",
       "      <td>https://plus.lesoir.be/299710/article/2020-05-...</td>\n",
       "      <td>5ec760338c227f981359e4d3</td>\n",
       "      <td>0.700000</td>\n",
       "    </tr>\n",
       "    <tr>\n",
       "      <th>14</th>\n",
       "      <td>UClouvain : des tests avec bugs et des étudian...</td>\n",
       "      <td>C’est une session d’examens inédite qui se pré...</td>\n",
       "      <td>2020-05-21T13:15:39.000Z</td>\n",
       "      <td>https://www.rtbf.be/info/regions/detail_uclouv...</td>\n",
       "      <td>5ec7603416193c3860cf1659</td>\n",
       "      <td>0.233333</td>\n",
       "    </tr>\n",
       "    <tr>\n",
       "      <th>15</th>\n",
       "      <td>Traçage de contacts: Google et Apple mettent à...</td>\n",
       "      <td>Les américains Apple et Google ont mis à la di...</td>\n",
       "      <td>2020-05-20T20:17:35.000Z</td>\n",
       "      <td>https://www.lalibre.be/economie/digital/tracag...</td>\n",
       "      <td>5ec76034a34eca094d2ced09</td>\n",
       "      <td>0.025000</td>\n",
       "    </tr>\n",
       "  </tbody>\n",
       "</table>\n",
       "</div>"
      ],
      "text/plain": [
       "                                                title  \\\n",
       "5   9 millions de clients concernés par une cybera...   \n",
       "6           «Docteur Google» va-t-il sauver le monde?   \n",
       "10                          Gafam: le casse du siècle   \n",
       "14  UClouvain : des tests avec bugs et des étudian...   \n",
       "15  Traçage de contacts: Google et Apple mettent à...   \n",
       "\n",
       "                                                 text  \\\n",
       "5   Dans un faible nombre de cas, les pirates ont ...   \n",
       "6   En 2013, Google créait une nouvelle filiale, C...   \n",
       "10  Quand le monde physique est à l’arrêt, le virt...   \n",
       "14  C’est une session d’examens inédite qui se pré...   \n",
       "15  Les américains Apple et Google ont mis à la di...   \n",
       "\n",
       "                        date  \\\n",
       "5   2020-05-19T11:53:50.000Z   \n",
       "6   2020-05-16T10:04:58.000Z   \n",
       "10  2020-05-09T04:00:00.000Z   \n",
       "14  2020-05-21T13:15:39.000Z   \n",
       "15  2020-05-20T20:17:35.000Z   \n",
       "\n",
       "                                                  url  \\\n",
       "5   https://plus.lesoir.be/301778/article/2020-05-...   \n",
       "6   https://plus.lesoir.be/301269/article/2020-05-...   \n",
       "10  https://plus.lesoir.be/299710/article/2020-05-...   \n",
       "14  https://www.rtbf.be/info/regions/detail_uclouv...   \n",
       "15  https://www.lalibre.be/economie/digital/tracag...   \n",
       "\n",
       "                         _id  polarity  \n",
       "5   5ec760338ae8910eece4965c  0.000000  \n",
       "6   5ec760338ae8910eece4965f -0.700000  \n",
       "10  5ec760338c227f981359e4d3  0.700000  \n",
       "14  5ec7603416193c3860cf1659  0.233333  \n",
       "15  5ec76034a34eca094d2ced09  0.025000  "
      ]
     },
     "execution_count": 133,
     "metadata": {},
     "output_type": "execute_result"
    }
   ],
   "source": [
    "df.head()"
   ]
  },
  {
   "cell_type": "code",
   "execution_count": 134,
   "metadata": {},
   "outputs": [
    {
     "data": {
      "text/plain": [
       "[0.0, -0.7, 0.7, 0.23333, 0.025, 0.2, -0.7, -0.1, -0.5, -0.0]"
      ]
     },
     "execution_count": 134,
     "metadata": {},
     "output_type": "execute_result"
    }
   ],
   "source": [
    "polarity_list[:10]"
   ]
  },
  {
   "cell_type": "code",
   "execution_count": 91,
   "metadata": {},
   "outputs": [],
   "source": [
    "df['polarity'] = polarity_list"
   ]
  },
  {
   "cell_type": "code",
   "execution_count": 93,
   "metadata": {},
   "outputs": [
    {
     "data": {
      "text/html": [
       "<div>\n",
       "<style scoped>\n",
       "    .dataframe tbody tr th:only-of-type {\n",
       "        vertical-align: middle;\n",
       "    }\n",
       "\n",
       "    .dataframe tbody tr th {\n",
       "        vertical-align: top;\n",
       "    }\n",
       "\n",
       "    .dataframe thead th {\n",
       "        text-align: right;\n",
       "    }\n",
       "</style>\n",
       "<table border=\"1\" class=\"dataframe\">\n",
       "  <thead>\n",
       "    <tr style=\"text-align: right;\">\n",
       "      <th></th>\n",
       "      <th>title</th>\n",
       "      <th>text</th>\n",
       "      <th>date</th>\n",
       "      <th>url</th>\n",
       "      <th>_id</th>\n",
       "      <th>polarity</th>\n",
       "    </tr>\n",
       "  </thead>\n",
       "  <tbody>\n",
       "    <tr>\n",
       "      <th>5</th>\n",
       "      <td>9 millions de clients concernés par une cybera...</td>\n",
       "      <td>Dans un faible nombre de cas, les pirates ont ...</td>\n",
       "      <td>2020-05-19T11:53:50.000Z</td>\n",
       "      <td>https://plus.lesoir.be/301778/article/2020-05-...</td>\n",
       "      <td>5ec760338ae8910eece4965c</td>\n",
       "      <td>0.000000e+00</td>\n",
       "    </tr>\n",
       "    <tr>\n",
       "      <th>6</th>\n",
       "      <td>«Docteur Google» va-t-il sauver le monde?</td>\n",
       "      <td>En 2013, Google créait une nouvelle filiale, C...</td>\n",
       "      <td>2020-05-16T10:04:58.000Z</td>\n",
       "      <td>https://plus.lesoir.be/301269/article/2020-05-...</td>\n",
       "      <td>5ec760338ae8910eece4965f</td>\n",
       "      <td>-7.000000e-01</td>\n",
       "    </tr>\n",
       "    <tr>\n",
       "      <th>10</th>\n",
       "      <td>Gafam: le casse du siècle</td>\n",
       "      <td>Quand le monde physique est à l’arrêt, le virt...</td>\n",
       "      <td>2020-05-09T04:00:00.000Z</td>\n",
       "      <td>https://plus.lesoir.be/299710/article/2020-05-...</td>\n",
       "      <td>5ec760338c227f981359e4d3</td>\n",
       "      <td>7.000000e-01</td>\n",
       "    </tr>\n",
       "    <tr>\n",
       "      <th>14</th>\n",
       "      <td>UClouvain : des tests avec bugs et des étudian...</td>\n",
       "      <td>C’est une session d’examens inédite qui se pré...</td>\n",
       "      <td>2020-05-21T13:15:39.000Z</td>\n",
       "      <td>https://www.rtbf.be/info/regions/detail_uclouv...</td>\n",
       "      <td>5ec7603416193c3860cf1659</td>\n",
       "      <td>2.333333e-01</td>\n",
       "    </tr>\n",
       "    <tr>\n",
       "      <th>15</th>\n",
       "      <td>Traçage de contacts: Google et Apple mettent à...</td>\n",
       "      <td>Les américains Apple et Google ont mis à la di...</td>\n",
       "      <td>2020-05-20T20:17:35.000Z</td>\n",
       "      <td>https://www.lalibre.be/economie/digital/tracag...</td>\n",
       "      <td>5ec76034a34eca094d2ced09</td>\n",
       "      <td>2.500000e-02</td>\n",
       "    </tr>\n",
       "    <tr>\n",
       "      <th>37</th>\n",
       "      <td>Le suivi des contacts, un \"moyen de prédilect...</td>\n",
       "      <td>En l'absence d'un médicament approprié et d'un...</td>\n",
       "      <td>2020-05-19T11:30:19.000Z</td>\n",
       "      <td>https://www.lalibre.be/belgique/societe/le-sui...</td>\n",
       "      <td>5ec7603552aa423524e876af</td>\n",
       "      <td>2.000000e-01</td>\n",
       "    </tr>\n",
       "    <tr>\n",
       "      <th>39</th>\n",
       "      <td>La Flandre estime avoir droit à davantage de ...</td>\n",
       "      <td>La Flandre a droit à une part considérablement...</td>\n",
       "      <td>2020-05-14T17:31:35.000Z</td>\n",
       "      <td>https://www.lalibre.be/belgique/politique-belg...</td>\n",
       "      <td>5ec760352251bf83fd64ad5c</td>\n",
       "      <td>-7.000000e-01</td>\n",
       "    </tr>\n",
       "    <tr>\n",
       "      <th>56</th>\n",
       "      <td>La compagnie aérienne Easyjet dit avoir subi ...</td>\n",
       "      <td>La compagnie aérienne britannique EasyJet a an...</td>\n",
       "      <td>2020-05-19T10:24:59.000Z</td>\n",
       "      <td>https://www.lalibre.be/economie/entreprises-st...</td>\n",
       "      <td>5ec7603703ad145e58d01785</td>\n",
       "      <td>-1.000000e-01</td>\n",
       "    </tr>\n",
       "    <tr>\n",
       "      <th>58</th>\n",
       "      <td>Amende de 50.000 euros pour Proximus pour non-...</td>\n",
       "      <td>Proximus écope d'une amende record de 50.000 e...</td>\n",
       "      <td>2020-05-18T17:28:01.000Z</td>\n",
       "      <td>https://www.lalibre.be/economie/entreprises-st...</td>\n",
       "      <td>5ec7603803ad145e58d0178a</td>\n",
       "      <td>-5.000000e-01</td>\n",
       "    </tr>\n",
       "    <tr>\n",
       "      <th>76</th>\n",
       "      <td>Toutes les décisions de justice seront biento...</td>\n",
       "      <td>Une opinion de Christophe Dubois (Professeur d...</td>\n",
       "      <td>2020-05-18T07:39:56.000Z</td>\n",
       "      <td>https://www.lalibre.be/debats/opinions/la-publ...</td>\n",
       "      <td>5ec7603d4b97c1c00b879813</td>\n",
       "      <td>-3.965082e-18</td>\n",
       "    </tr>\n",
       "  </tbody>\n",
       "</table>\n",
       "</div>"
      ],
      "text/plain": [
       "                                                title  \\\n",
       "5   9 millions de clients concernés par une cybera...   \n",
       "6           «Docteur Google» va-t-il sauver le monde?   \n",
       "10                          Gafam: le casse du siècle   \n",
       "14  UClouvain : des tests avec bugs et des étudian...   \n",
       "15  Traçage de contacts: Google et Apple mettent à...   \n",
       "37  Le suivi des contacts, un \"moyen de prédilect...   \n",
       "39  La Flandre estime avoir droit à davantage de ...   \n",
       "56  La compagnie aérienne Easyjet dit avoir subi ...   \n",
       "58  Amende de 50.000 euros pour Proximus pour non-...   \n",
       "76  Toutes les décisions de justice seront biento...   \n",
       "\n",
       "                                                 text  \\\n",
       "5   Dans un faible nombre de cas, les pirates ont ...   \n",
       "6   En 2013, Google créait une nouvelle filiale, C...   \n",
       "10  Quand le monde physique est à l’arrêt, le virt...   \n",
       "14  C’est une session d’examens inédite qui se pré...   \n",
       "15  Les américains Apple et Google ont mis à la di...   \n",
       "37  En l'absence d'un médicament approprié et d'un...   \n",
       "39  La Flandre a droit à une part considérablement...   \n",
       "56  La compagnie aérienne britannique EasyJet a an...   \n",
       "58  Proximus écope d'une amende record de 50.000 e...   \n",
       "76  Une opinion de Christophe Dubois (Professeur d...   \n",
       "\n",
       "                        date  \\\n",
       "5   2020-05-19T11:53:50.000Z   \n",
       "6   2020-05-16T10:04:58.000Z   \n",
       "10  2020-05-09T04:00:00.000Z   \n",
       "14  2020-05-21T13:15:39.000Z   \n",
       "15  2020-05-20T20:17:35.000Z   \n",
       "37  2020-05-19T11:30:19.000Z   \n",
       "39  2020-05-14T17:31:35.000Z   \n",
       "56  2020-05-19T10:24:59.000Z   \n",
       "58  2020-05-18T17:28:01.000Z   \n",
       "76  2020-05-18T07:39:56.000Z   \n",
       "\n",
       "                                                  url  \\\n",
       "5   https://plus.lesoir.be/301778/article/2020-05-...   \n",
       "6   https://plus.lesoir.be/301269/article/2020-05-...   \n",
       "10  https://plus.lesoir.be/299710/article/2020-05-...   \n",
       "14  https://www.rtbf.be/info/regions/detail_uclouv...   \n",
       "15  https://www.lalibre.be/economie/digital/tracag...   \n",
       "37  https://www.lalibre.be/belgique/societe/le-sui...   \n",
       "39  https://www.lalibre.be/belgique/politique-belg...   \n",
       "56  https://www.lalibre.be/economie/entreprises-st...   \n",
       "58  https://www.lalibre.be/economie/entreprises-st...   \n",
       "76  https://www.lalibre.be/debats/opinions/la-publ...   \n",
       "\n",
       "                         _id      polarity  \n",
       "5   5ec760338ae8910eece4965c  0.000000e+00  \n",
       "6   5ec760338ae8910eece4965f -7.000000e-01  \n",
       "10  5ec760338c227f981359e4d3  7.000000e-01  \n",
       "14  5ec7603416193c3860cf1659  2.333333e-01  \n",
       "15  5ec76034a34eca094d2ced09  2.500000e-02  \n",
       "37  5ec7603552aa423524e876af  2.000000e-01  \n",
       "39  5ec760352251bf83fd64ad5c -7.000000e-01  \n",
       "56  5ec7603703ad145e58d01785 -1.000000e-01  \n",
       "58  5ec7603803ad145e58d0178a -5.000000e-01  \n",
       "76  5ec7603d4b97c1c00b879813 -3.965082e-18  "
      ]
     },
     "execution_count": 93,
     "metadata": {},
     "output_type": "execute_result"
    }
   ],
   "source": [
    "df.head(10)"
   ]
  },
  {
   "cell_type": "code",
   "execution_count": 135,
   "metadata": {},
   "outputs": [],
   "source": [
    "df['language'] = 'fr'"
   ]
  },
  {
   "cell_type": "code",
   "execution_count": 136,
   "metadata": {},
   "outputs": [
    {
     "data": {
      "text/html": [
       "<div>\n",
       "<style scoped>\n",
       "    .dataframe tbody tr th:only-of-type {\n",
       "        vertical-align: middle;\n",
       "    }\n",
       "\n",
       "    .dataframe tbody tr th {\n",
       "        vertical-align: top;\n",
       "    }\n",
       "\n",
       "    .dataframe thead th {\n",
       "        text-align: right;\n",
       "    }\n",
       "</style>\n",
       "<table border=\"1\" class=\"dataframe\">\n",
       "  <thead>\n",
       "    <tr style=\"text-align: right;\">\n",
       "      <th></th>\n",
       "      <th>title</th>\n",
       "      <th>text</th>\n",
       "      <th>date</th>\n",
       "      <th>url</th>\n",
       "      <th>_id</th>\n",
       "      <th>polarity</th>\n",
       "      <th>language</th>\n",
       "    </tr>\n",
       "  </thead>\n",
       "  <tbody>\n",
       "    <tr>\n",
       "      <th>5</th>\n",
       "      <td>9 millions de clients concernés par une cybera...</td>\n",
       "      <td>Dans un faible nombre de cas, les pirates ont ...</td>\n",
       "      <td>2020-05-19T11:53:50.000Z</td>\n",
       "      <td>https://plus.lesoir.be/301778/article/2020-05-...</td>\n",
       "      <td>5ec760338ae8910eece4965c</td>\n",
       "      <td>0.000000</td>\n",
       "      <td>fr</td>\n",
       "    </tr>\n",
       "    <tr>\n",
       "      <th>6</th>\n",
       "      <td>«Docteur Google» va-t-il sauver le monde?</td>\n",
       "      <td>En 2013, Google créait une nouvelle filiale, C...</td>\n",
       "      <td>2020-05-16T10:04:58.000Z</td>\n",
       "      <td>https://plus.lesoir.be/301269/article/2020-05-...</td>\n",
       "      <td>5ec760338ae8910eece4965f</td>\n",
       "      <td>-0.700000</td>\n",
       "      <td>fr</td>\n",
       "    </tr>\n",
       "    <tr>\n",
       "      <th>10</th>\n",
       "      <td>Gafam: le casse du siècle</td>\n",
       "      <td>Quand le monde physique est à l’arrêt, le virt...</td>\n",
       "      <td>2020-05-09T04:00:00.000Z</td>\n",
       "      <td>https://plus.lesoir.be/299710/article/2020-05-...</td>\n",
       "      <td>5ec760338c227f981359e4d3</td>\n",
       "      <td>0.700000</td>\n",
       "      <td>fr</td>\n",
       "    </tr>\n",
       "    <tr>\n",
       "      <th>14</th>\n",
       "      <td>UClouvain : des tests avec bugs et des étudian...</td>\n",
       "      <td>C’est une session d’examens inédite qui se pré...</td>\n",
       "      <td>2020-05-21T13:15:39.000Z</td>\n",
       "      <td>https://www.rtbf.be/info/regions/detail_uclouv...</td>\n",
       "      <td>5ec7603416193c3860cf1659</td>\n",
       "      <td>0.233333</td>\n",
       "      <td>fr</td>\n",
       "    </tr>\n",
       "    <tr>\n",
       "      <th>15</th>\n",
       "      <td>Traçage de contacts: Google et Apple mettent à...</td>\n",
       "      <td>Les américains Apple et Google ont mis à la di...</td>\n",
       "      <td>2020-05-20T20:17:35.000Z</td>\n",
       "      <td>https://www.lalibre.be/economie/digital/tracag...</td>\n",
       "      <td>5ec76034a34eca094d2ced09</td>\n",
       "      <td>0.025000</td>\n",
       "      <td>fr</td>\n",
       "    </tr>\n",
       "  </tbody>\n",
       "</table>\n",
       "</div>"
      ],
      "text/plain": [
       "                                                title  \\\n",
       "5   9 millions de clients concernés par une cybera...   \n",
       "6           «Docteur Google» va-t-il sauver le monde?   \n",
       "10                          Gafam: le casse du siècle   \n",
       "14  UClouvain : des tests avec bugs et des étudian...   \n",
       "15  Traçage de contacts: Google et Apple mettent à...   \n",
       "\n",
       "                                                 text  \\\n",
       "5   Dans un faible nombre de cas, les pirates ont ...   \n",
       "6   En 2013, Google créait une nouvelle filiale, C...   \n",
       "10  Quand le monde physique est à l’arrêt, le virt...   \n",
       "14  C’est une session d’examens inédite qui se pré...   \n",
       "15  Les américains Apple et Google ont mis à la di...   \n",
       "\n",
       "                        date  \\\n",
       "5   2020-05-19T11:53:50.000Z   \n",
       "6   2020-05-16T10:04:58.000Z   \n",
       "10  2020-05-09T04:00:00.000Z   \n",
       "14  2020-05-21T13:15:39.000Z   \n",
       "15  2020-05-20T20:17:35.000Z   \n",
       "\n",
       "                                                  url  \\\n",
       "5   https://plus.lesoir.be/301778/article/2020-05-...   \n",
       "6   https://plus.lesoir.be/301269/article/2020-05-...   \n",
       "10  https://plus.lesoir.be/299710/article/2020-05-...   \n",
       "14  https://www.rtbf.be/info/regions/detail_uclouv...   \n",
       "15  https://www.lalibre.be/economie/digital/tracag...   \n",
       "\n",
       "                         _id  polarity language  \n",
       "5   5ec760338ae8910eece4965c  0.000000       fr  \n",
       "6   5ec760338ae8910eece4965f -0.700000       fr  \n",
       "10  5ec760338c227f981359e4d3  0.700000       fr  \n",
       "14  5ec7603416193c3860cf1659  0.233333       fr  \n",
       "15  5ec76034a34eca094d2ced09  0.025000       fr  "
      ]
     },
     "execution_count": 136,
     "metadata": {},
     "output_type": "execute_result"
    }
   ],
   "source": [
    "df.head()"
   ]
  }
 ],
 "metadata": {
  "kernelspec": {
   "display_name": "Python 3.11.3 ('prez': venv)",
   "language": "python",
   "name": "python3"
  },
  "language_info": {
   "codemirror_mode": {
    "name": "ipython",
    "version": 3
   },
   "file_extension": ".py",
   "mimetype": "text/x-python",
   "name": "python",
   "nbconvert_exporter": "python",
   "pygments_lexer": "ipython3",
   "version": "3.11.3"
  },
  "orig_nbformat": 4,
  "vscode": {
   "interpreter": {
    "hash": "fe4a16402ecb4456cd3a87bc27630e6918310df49c247015aa286d8d4e1233a5"
   }
  }
 },
 "nbformat": 4,
 "nbformat_minor": 2
}
