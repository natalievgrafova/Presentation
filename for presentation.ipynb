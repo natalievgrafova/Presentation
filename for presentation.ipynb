{
 "cells": [
  {
   "cell_type": "code",
   "execution_count": 72,
   "metadata": {},
   "outputs": [],
   "source": [
    "import pandas as pd"
   ]
  },
  {
   "cell_type": "code",
   "execution_count": 73,
   "metadata": {},
   "outputs": [],
   "source": [
    "from textblob import TextBlob \n",
    "from textblob import Blobber\n",
    "from textblob_fr import PatternTagger, PatternAnalyzer\n",
    "from textblob_nl import PatternTagger, PatternAnalyzer\n",
    "tb_fr = Blobber(pos_tagger=PatternTagger(), analyzer=PatternAnalyzer())\n"
   ]
  },
  {
   "cell_type": "code",
   "execution_count": 74,
   "metadata": {},
   "outputs": [],
   "source": [
    "df = pd.read_csv('clean_french_data.csv')"
   ]
  },
  {
   "cell_type": "code",
   "execution_count": 75,
   "metadata": {},
   "outputs": [],
   "source": [
    "df = df[['title', 'text', 'date', 'url', '_id']]"
   ]
  },
  {
   "cell_type": "code",
   "execution_count": 76,
   "metadata": {},
   "outputs": [
    {
     "data": {
      "text/html": [
       "<div>\n",
       "<style scoped>\n",
       "    .dataframe tbody tr th:only-of-type {\n",
       "        vertical-align: middle;\n",
       "    }\n",
       "\n",
       "    .dataframe tbody tr th {\n",
       "        vertical-align: top;\n",
       "    }\n",
       "\n",
       "    .dataframe thead th {\n",
       "        text-align: right;\n",
       "    }\n",
       "</style>\n",
       "<table border=\"1\" class=\"dataframe\">\n",
       "  <thead>\n",
       "    <tr style=\"text-align: right;\">\n",
       "      <th></th>\n",
       "      <th>title</th>\n",
       "      <th>text</th>\n",
       "      <th>date</th>\n",
       "      <th>url</th>\n",
       "      <th>_id</th>\n",
       "    </tr>\n",
       "  </thead>\n",
       "  <tbody>\n",
       "    <tr>\n",
       "      <th>0</th>\n",
       "      <td>La qualité de l’air en nette amélioration à Br...</td>\n",
       "      <td>Les concentrations de différents polluants rel...</td>\n",
       "      <td>2020-05-22T04:22:52.000Z</td>\n",
       "      <td>https://plus.lesoir.be/302282/article/2020-05-...</td>\n",
       "      <td>5ec760320e5c92500d004aee</td>\n",
       "    </tr>\n",
       "    <tr>\n",
       "      <th>1</th>\n",
       "      <td>Coronavirus à Bruxelles : on respire mieux grâ...</td>\n",
       "      <td>L’amélioration de la qualité de l’air bruxello...</td>\n",
       "      <td>2020-05-22T04:37:03.000Z</td>\n",
       "      <td>https://www.rtbf.be/info/regions/detail_corona...</td>\n",
       "      <td>5ec7603216193c3860cf1616</td>\n",
       "    </tr>\n",
       "    <tr>\n",
       "      <th>2</th>\n",
       "      <td>La Chambre vote une résolution encadrant l’usa...</td>\n",
       "      <td>La résolution pose plusieurs principes tel que...</td>\n",
       "      <td>2020-05-20T19:36:26.000Z</td>\n",
       "      <td>https://plus.lesoir.be/302121/article/2020-05-...</td>\n",
       "      <td>5ec76032039b233f9642aeb6</td>\n",
       "    </tr>\n",
       "    <tr>\n",
       "      <th>3</th>\n",
       "      <td>Plus de cinq millions de cas de Covid-19 dans ...</td>\n",
       "      <td>Le nouveau coronavirus a officiellement touché...</td>\n",
       "      <td>2020-05-21T21:01:32.000Z</td>\n",
       "      <td>https://plus.lesoir.be/302273/article/2020-05-...</td>\n",
       "      <td>5ec760320e5c92500d004af3</td>\n",
       "    </tr>\n",
       "    <tr>\n",
       "      <th>4</th>\n",
       "      <td>Coronavirus en Belgique : les ouvriers plus to...</td>\n",
       "      <td>Les résultats d’une enquête menée par le prest...</td>\n",
       "      <td>2020-05-22T04:00:00.000Z</td>\n",
       "      <td>https://www.rtbf.be/info/economie/detail_coron...</td>\n",
       "      <td>5ec7603216193c3860cf161f</td>\n",
       "    </tr>\n",
       "  </tbody>\n",
       "</table>\n",
       "</div>"
      ],
      "text/plain": [
       "                                               title  \\\n",
       "0  La qualité de l’air en nette amélioration à Br...   \n",
       "1  Coronavirus à Bruxelles : on respire mieux grâ...   \n",
       "2  La Chambre vote une résolution encadrant l’usa...   \n",
       "3  Plus de cinq millions de cas de Covid-19 dans ...   \n",
       "4  Coronavirus en Belgique : les ouvriers plus to...   \n",
       "\n",
       "                                                text  \\\n",
       "0  Les concentrations de différents polluants rel...   \n",
       "1  L’amélioration de la qualité de l’air bruxello...   \n",
       "2  La résolution pose plusieurs principes tel que...   \n",
       "3  Le nouveau coronavirus a officiellement touché...   \n",
       "4  Les résultats d’une enquête menée par le prest...   \n",
       "\n",
       "                       date  \\\n",
       "0  2020-05-22T04:22:52.000Z   \n",
       "1  2020-05-22T04:37:03.000Z   \n",
       "2  2020-05-20T19:36:26.000Z   \n",
       "3  2020-05-21T21:01:32.000Z   \n",
       "4  2020-05-22T04:00:00.000Z   \n",
       "\n",
       "                                                 url                       _id  \n",
       "0  https://plus.lesoir.be/302282/article/2020-05-...  5ec760320e5c92500d004aee  \n",
       "1  https://www.rtbf.be/info/regions/detail_corona...  5ec7603216193c3860cf1616  \n",
       "2  https://plus.lesoir.be/302121/article/2020-05-...  5ec76032039b233f9642aeb6  \n",
       "3  https://plus.lesoir.be/302273/article/2020-05-...  5ec760320e5c92500d004af3  \n",
       "4  https://www.rtbf.be/info/economie/detail_coron...  5ec7603216193c3860cf161f  "
      ]
     },
     "execution_count": 76,
     "metadata": {},
     "output_type": "execute_result"
    }
   ],
   "source": [
    "df.head()"
   ]
  },
  {
   "cell_type": "code",
   "execution_count": 77,
   "metadata": {},
   "outputs": [],
   "source": [
    "key_words_data = ['données personnelles','base des données', 'confidentialité','partager des données', 'accès aux données', 'réutilisation des données', 'utilisation des données', 'analyse des données', 'usage des données', 'protection des données']"
   ]
  },
  {
   "cell_type": "code",
   "execution_count": 78,
   "metadata": {},
   "outputs": [
    {
     "data": {
      "text/plain": [
       "'La Chambre vote une résolution encadrant l’usage éventuel d’une application pour smartphone'"
      ]
     },
     "execution_count": 78,
     "metadata": {},
     "output_type": "execute_result"
    }
   ],
   "source": [
    "df.iloc[2,0]"
   ]
  },
  {
   "cell_type": "code",
   "execution_count": 137,
   "metadata": {},
   "outputs": [],
   "source": [
    "df = df.drop_duplicates(subset=['text'])"
   ]
  },
  {
   "cell_type": "code",
   "execution_count": 139,
   "metadata": {},
   "outputs": [
    {
     "data": {
      "text/plain": [
       "5434"
      ]
     },
     "execution_count": 139,
     "metadata": {},
     "output_type": "execute_result"
    }
   ],
   "source": [
    "len(df)"
   ]
  },
  {
   "cell_type": "code",
   "execution_count": 81,
   "metadata": {},
   "outputs": [],
   "source": [
    "list_data = []\n",
    "for row in range(len(df)):\n",
    "    if any(word in str(df.iloc[row, 1]) for word in key_words_data):\n",
    "        if str(df.iloc[row, 1]) not in list_data:\n",
    "            list_data.append(str(df.iloc[row, 1]))"
   ]
  },
  {
   "cell_type": "code",
   "execution_count": 82,
   "metadata": {},
   "outputs": [
    {
     "data": {
      "text/plain": [
       "5434"
      ]
     },
     "execution_count": 82,
     "metadata": {},
     "output_type": "execute_result"
    }
   ],
   "source": [
    "len(list_data)"
   ]
  },
  {
   "cell_type": "code",
   "execution_count": 83,
   "metadata": {},
   "outputs": [
    {
     "data": {
      "text/plain": [
       "'En 2013, Google créait une nouvelle filiale, Calico. Son but, un brin ambitieux : « tuer la mort ». Dit autrement, lutter contre le vieillissement en ressuscitant le vieux fantasme de transhumanisme consistant à « augmenter » l’humain grâce à la technologie. Calico ne donne aujourd’hui plus signe de vie. Mais entre-temps, Google a conclu un accord controversé avec 150 hôpitaux aux Etats-Unis lui offrant un accès aux données médicales de millions de patients. En 2014, elle rachetait Deepmind pour 628 millions de dollars. La branche « Intelligence artificielle » de Google utilise les données sur les génomes pour prédire la structure des protéines des organismes, ce qui pourrait permettre de dégager une réponse thérapeutique au Covid-19.'"
      ]
     },
     "execution_count": 83,
     "metadata": {},
     "output_type": "execute_result"
    }
   ],
   "source": [
    "list_data[1]"
   ]
  },
  {
   "cell_type": "code",
   "execution_count": 84,
   "metadata": {},
   "outputs": [],
   "source": [
    "df = df[df['text'].isin(list_data)]"
   ]
  },
  {
   "cell_type": "code",
   "execution_count": 85,
   "metadata": {},
   "outputs": [],
   "source": [
    "def get_polarity_fr(doc):\n",
    "        polarity = tb_fr(doc).sentiment[0]\n",
    "        return polarity"
   ]
  },
  {
   "cell_type": "code",
   "execution_count": null,
   "metadata": {},
   "outputs": [],
   "source": []
  },
  {
   "cell_type": "code",
   "execution_count": 86,
   "metadata": {},
   "outputs": [
    {
     "data": {
      "text/html": [
       "<div>\n",
       "<style scoped>\n",
       "    .dataframe tbody tr th:only-of-type {\n",
       "        vertical-align: middle;\n",
       "    }\n",
       "\n",
       "    .dataframe tbody tr th {\n",
       "        vertical-align: top;\n",
       "    }\n",
       "\n",
       "    .dataframe thead th {\n",
       "        text-align: right;\n",
       "    }\n",
       "</style>\n",
       "<table border=\"1\" class=\"dataframe\">\n",
       "  <thead>\n",
       "    <tr style=\"text-align: right;\">\n",
       "      <th></th>\n",
       "      <th>title</th>\n",
       "      <th>text</th>\n",
       "      <th>date</th>\n",
       "      <th>url</th>\n",
       "      <th>_id</th>\n",
       "    </tr>\n",
       "  </thead>\n",
       "  <tbody>\n",
       "    <tr>\n",
       "      <th>5</th>\n",
       "      <td>9 millions de clients concernés par une cybera...</td>\n",
       "      <td>Dans un faible nombre de cas, les pirates ont ...</td>\n",
       "      <td>2020-05-19T11:53:50.000Z</td>\n",
       "      <td>https://plus.lesoir.be/301778/article/2020-05-...</td>\n",
       "      <td>5ec760338ae8910eece4965c</td>\n",
       "    </tr>\n",
       "    <tr>\n",
       "      <th>6</th>\n",
       "      <td>«Docteur Google» va-t-il sauver le monde?</td>\n",
       "      <td>En 2013, Google créait une nouvelle filiale, C...</td>\n",
       "      <td>2020-05-16T10:04:58.000Z</td>\n",
       "      <td>https://plus.lesoir.be/301269/article/2020-05-...</td>\n",
       "      <td>5ec760338ae8910eece4965f</td>\n",
       "    </tr>\n",
       "    <tr>\n",
       "      <th>10</th>\n",
       "      <td>Gafam: le casse du siècle</td>\n",
       "      <td>Quand le monde physique est à l’arrêt, le virt...</td>\n",
       "      <td>2020-05-09T04:00:00.000Z</td>\n",
       "      <td>https://plus.lesoir.be/299710/article/2020-05-...</td>\n",
       "      <td>5ec760338c227f981359e4d3</td>\n",
       "    </tr>\n",
       "    <tr>\n",
       "      <th>14</th>\n",
       "      <td>UClouvain : des tests avec bugs et des étudian...</td>\n",
       "      <td>C’est une session d’examens inédite qui se pré...</td>\n",
       "      <td>2020-05-21T13:15:39.000Z</td>\n",
       "      <td>https://www.rtbf.be/info/regions/detail_uclouv...</td>\n",
       "      <td>5ec7603416193c3860cf1659</td>\n",
       "    </tr>\n",
       "    <tr>\n",
       "      <th>15</th>\n",
       "      <td>Traçage de contacts: Google et Apple mettent à...</td>\n",
       "      <td>Les américains Apple et Google ont mis à la di...</td>\n",
       "      <td>2020-05-20T20:17:35.000Z</td>\n",
       "      <td>https://www.lalibre.be/economie/digital/tracag...</td>\n",
       "      <td>5ec76034a34eca094d2ced09</td>\n",
       "    </tr>\n",
       "  </tbody>\n",
       "</table>\n",
       "</div>"
      ],
      "text/plain": [
       "                                                title  \\\n",
       "5   9 millions de clients concernés par une cybera...   \n",
       "6           «Docteur Google» va-t-il sauver le monde?   \n",
       "10                          Gafam: le casse du siècle   \n",
       "14  UClouvain : des tests avec bugs et des étudian...   \n",
       "15  Traçage de contacts: Google et Apple mettent à...   \n",
       "\n",
       "                                                 text  \\\n",
       "5   Dans un faible nombre de cas, les pirates ont ...   \n",
       "6   En 2013, Google créait une nouvelle filiale, C...   \n",
       "10  Quand le monde physique est à l’arrêt, le virt...   \n",
       "14  C’est une session d’examens inédite qui se pré...   \n",
       "15  Les américains Apple et Google ont mis à la di...   \n",
       "\n",
       "                        date  \\\n",
       "5   2020-05-19T11:53:50.000Z   \n",
       "6   2020-05-16T10:04:58.000Z   \n",
       "10  2020-05-09T04:00:00.000Z   \n",
       "14  2020-05-21T13:15:39.000Z   \n",
       "15  2020-05-20T20:17:35.000Z   \n",
       "\n",
       "                                                  url  \\\n",
       "5   https://plus.lesoir.be/301778/article/2020-05-...   \n",
       "6   https://plus.lesoir.be/301269/article/2020-05-...   \n",
       "10  https://plus.lesoir.be/299710/article/2020-05-...   \n",
       "14  https://www.rtbf.be/info/regions/detail_uclouv...   \n",
       "15  https://www.lalibre.be/economie/digital/tracag...   \n",
       "\n",
       "                         _id  \n",
       "5   5ec760338ae8910eece4965c  \n",
       "6   5ec760338ae8910eece4965f  \n",
       "10  5ec760338c227f981359e4d3  \n",
       "14  5ec7603416193c3860cf1659  \n",
       "15  5ec76034a34eca094d2ced09  "
      ]
     },
     "execution_count": 86,
     "metadata": {},
     "output_type": "execute_result"
    }
   ],
   "source": [
    "df.head()"
   ]
  },
  {
   "cell_type": "code",
   "execution_count": 132,
   "metadata": {},
   "outputs": [],
   "source": [
    "polarity_list = []\n",
    "for row in range(len(df)): \n",
    "    polarity_list.append(round(get_polarity_fr(str(df.iloc[row,1])),5))\n",
    "    "
   ]
  },
  {
   "cell_type": "code",
   "execution_count": 129,
   "metadata": {},
   "outputs": [
    {
     "data": {
      "text/plain": [
       "[0.0, -0.7, 0.7, 0.23333]"
      ]
     },
     "execution_count": 129,
     "metadata": {},
     "output_type": "execute_result"
    }
   ],
   "source": [
    "polarity_list[:4]"
   ]
  },
  {
   "cell_type": "code",
   "execution_count": 133,
   "metadata": {},
   "outputs": [
    {
     "data": {
      "text/html": [
       "<div>\n",
       "<style scoped>\n",
       "    .dataframe tbody tr th:only-of-type {\n",
       "        vertical-align: middle;\n",
       "    }\n",
       "\n",
       "    .dataframe tbody tr th {\n",
       "        vertical-align: top;\n",
       "    }\n",
       "\n",
       "    .dataframe thead th {\n",
       "        text-align: right;\n",
       "    }\n",
       "</style>\n",
       "<table border=\"1\" class=\"dataframe\">\n",
       "  <thead>\n",
       "    <tr style=\"text-align: right;\">\n",
       "      <th></th>\n",
       "      <th>title</th>\n",
       "      <th>text</th>\n",
       "      <th>date</th>\n",
       "      <th>url</th>\n",
       "      <th>_id</th>\n",
       "      <th>polarity</th>\n",
       "    </tr>\n",
       "  </thead>\n",
       "  <tbody>\n",
       "    <tr>\n",
       "      <th>5</th>\n",
       "      <td>9 millions de clients concernés par une cybera...</td>\n",
       "      <td>Dans un faible nombre de cas, les pirates ont ...</td>\n",
       "      <td>2020-05-19T11:53:50.000Z</td>\n",
       "      <td>https://plus.lesoir.be/301778/article/2020-05-...</td>\n",
       "      <td>5ec760338ae8910eece4965c</td>\n",
       "      <td>0.000000</td>\n",
       "    </tr>\n",
       "    <tr>\n",
       "      <th>6</th>\n",
       "      <td>«Docteur Google» va-t-il sauver le monde?</td>\n",
       "      <td>En 2013, Google créait une nouvelle filiale, C...</td>\n",
       "      <td>2020-05-16T10:04:58.000Z</td>\n",
       "      <td>https://plus.lesoir.be/301269/article/2020-05-...</td>\n",
       "      <td>5ec760338ae8910eece4965f</td>\n",
       "      <td>-0.700000</td>\n",
       "    </tr>\n",
       "    <tr>\n",
       "      <th>10</th>\n",
       "      <td>Gafam: le casse du siècle</td>\n",
       "      <td>Quand le monde physique est à l’arrêt, le virt...</td>\n",
       "      <td>2020-05-09T04:00:00.000Z</td>\n",
       "      <td>https://plus.lesoir.be/299710/article/2020-05-...</td>\n",
       "      <td>5ec760338c227f981359e4d3</td>\n",
       "      <td>0.700000</td>\n",
       "    </tr>\n",
       "    <tr>\n",
       "      <th>14</th>\n",
       "      <td>UClouvain : des tests avec bugs et des étudian...</td>\n",
       "      <td>C’est une session d’examens inédite qui se pré...</td>\n",
       "      <td>2020-05-21T13:15:39.000Z</td>\n",
       "      <td>https://www.rtbf.be/info/regions/detail_uclouv...</td>\n",
       "      <td>5ec7603416193c3860cf1659</td>\n",
       "      <td>0.233333</td>\n",
       "    </tr>\n",
       "    <tr>\n",
       "      <th>15</th>\n",
       "      <td>Traçage de contacts: Google et Apple mettent à...</td>\n",
       "      <td>Les américains Apple et Google ont mis à la di...</td>\n",
       "      <td>2020-05-20T20:17:35.000Z</td>\n",
       "      <td>https://www.lalibre.be/economie/digital/tracag...</td>\n",
       "      <td>5ec76034a34eca094d2ced09</td>\n",
       "      <td>0.025000</td>\n",
       "    </tr>\n",
       "  </tbody>\n",
       "</table>\n",
       "</div>"
      ],
      "text/plain": [
       "                                                title  \\\n",
       "5   9 millions de clients concernés par une cybera...   \n",
       "6           «Docteur Google» va-t-il sauver le monde?   \n",
       "10                          Gafam: le casse du siècle   \n",
       "14  UClouvain : des tests avec bugs et des étudian...   \n",
       "15  Traçage de contacts: Google et Apple mettent à...   \n",
       "\n",
       "                                                 text  \\\n",
       "5   Dans un faible nombre de cas, les pirates ont ...   \n",
       "6   En 2013, Google créait une nouvelle filiale, C...   \n",
       "10  Quand le monde physique est à l’arrêt, le virt...   \n",
       "14  C’est une session d’examens inédite qui se pré...   \n",
       "15  Les américains Apple et Google ont mis à la di...   \n",
       "\n",
       "                        date  \\\n",
       "5   2020-05-19T11:53:50.000Z   \n",
       "6   2020-05-16T10:04:58.000Z   \n",
       "10  2020-05-09T04:00:00.000Z   \n",
       "14  2020-05-21T13:15:39.000Z   \n",
       "15  2020-05-20T20:17:35.000Z   \n",
       "\n",
       "                                                  url  \\\n",
       "5   https://plus.lesoir.be/301778/article/2020-05-...   \n",
       "6   https://plus.lesoir.be/301269/article/2020-05-...   \n",
       "10  https://plus.lesoir.be/299710/article/2020-05-...   \n",
       "14  https://www.rtbf.be/info/regions/detail_uclouv...   \n",
       "15  https://www.lalibre.be/economie/digital/tracag...   \n",
       "\n",
       "                         _id  polarity  \n",
       "5   5ec760338ae8910eece4965c  0.000000  \n",
       "6   5ec760338ae8910eece4965f -0.700000  \n",
       "10  5ec760338c227f981359e4d3  0.700000  \n",
       "14  5ec7603416193c3860cf1659  0.233333  \n",
       "15  5ec76034a34eca094d2ced09  0.025000  "
      ]
     },
     "execution_count": 133,
     "metadata": {},
     "output_type": "execute_result"
    }
   ],
   "source": [
    "df.head()"
   ]
  },
  {
   "cell_type": "code",
   "execution_count": 134,
   "metadata": {},
   "outputs": [
    {
     "data": {
      "text/plain": [
       "[0.0, -0.7, 0.7, 0.23333, 0.025, 0.2, -0.7, -0.1, -0.5, -0.0]"
      ]
     },
     "execution_count": 134,
     "metadata": {},
     "output_type": "execute_result"
    }
   ],
   "source": [
    "polarity_list[:10]"
   ]
  },
  {
   "cell_type": "code",
   "execution_count": 91,
   "metadata": {},
   "outputs": [],
   "source": [
    "df['polarity'] = polarity_list"
   ]
  },
  {
   "cell_type": "code",
   "execution_count": 93,
   "metadata": {},
   "outputs": [
    {
     "data": {
      "text/html": [
       "<div>\n",
       "<style scoped>\n",
       "    .dataframe tbody tr th:only-of-type {\n",
       "        vertical-align: middle;\n",
       "    }\n",
       "\n",
       "    .dataframe tbody tr th {\n",
       "        vertical-align: top;\n",
       "    }\n",
       "\n",
       "    .dataframe thead th {\n",
       "        text-align: right;\n",
       "    }\n",
       "</style>\n",
       "<table border=\"1\" class=\"dataframe\">\n",
       "  <thead>\n",
       "    <tr style=\"text-align: right;\">\n",
       "      <th></th>\n",
       "      <th>title</th>\n",
       "      <th>text</th>\n",
       "      <th>date</th>\n",
       "      <th>url</th>\n",
       "      <th>_id</th>\n",
       "      <th>polarity</th>\n",
       "    </tr>\n",
       "  </thead>\n",
       "  <tbody>\n",
       "    <tr>\n",
       "      <th>5</th>\n",
       "      <td>9 millions de clients concernés par une cybera...</td>\n",
       "      <td>Dans un faible nombre de cas, les pirates ont ...</td>\n",
       "      <td>2020-05-19T11:53:50.000Z</td>\n",
       "      <td>https://plus.lesoir.be/301778/article/2020-05-...</td>\n",
       "      <td>5ec760338ae8910eece4965c</td>\n",
       "      <td>0.000000e+00</td>\n",
       "    </tr>\n",
       "    <tr>\n",
       "      <th>6</th>\n",
       "      <td>«Docteur Google» va-t-il sauver le monde?</td>\n",
       "      <td>En 2013, Google créait une nouvelle filiale, C...</td>\n",
       "      <td>2020-05-16T10:04:58.000Z</td>\n",
       "      <td>https://plus.lesoir.be/301269/article/2020-05-...</td>\n",
       "      <td>5ec760338ae8910eece4965f</td>\n",
       "      <td>-7.000000e-01</td>\n",
       "    </tr>\n",
       "    <tr>\n",
       "      <th>10</th>\n",
       "      <td>Gafam: le casse du siècle</td>\n",
       "      <td>Quand le monde physique est à l’arrêt, le virt...</td>\n",
       "      <td>2020-05-09T04:00:00.000Z</td>\n",
       "      <td>https://plus.lesoir.be/299710/article/2020-05-...</td>\n",
       "      <td>5ec760338c227f981359e4d3</td>\n",
       "      <td>7.000000e-01</td>\n",
       "    </tr>\n",
       "    <tr>\n",
       "      <th>14</th>\n",
       "      <td>UClouvain : des tests avec bugs et des étudian...</td>\n",
       "      <td>C’est une session d’examens inédite qui se pré...</td>\n",
       "      <td>2020-05-21T13:15:39.000Z</td>\n",
       "      <td>https://www.rtbf.be/info/regions/detail_uclouv...</td>\n",
       "      <td>5ec7603416193c3860cf1659</td>\n",
       "      <td>2.333333e-01</td>\n",
       "    </tr>\n",
       "    <tr>\n",
       "      <th>15</th>\n",
       "      <td>Traçage de contacts: Google et Apple mettent à...</td>\n",
       "      <td>Les américains Apple et Google ont mis à la di...</td>\n",
       "      <td>2020-05-20T20:17:35.000Z</td>\n",
       "      <td>https://www.lalibre.be/economie/digital/tracag...</td>\n",
       "      <td>5ec76034a34eca094d2ced09</td>\n",
       "      <td>2.500000e-02</td>\n",
       "    </tr>\n",
       "    <tr>\n",
       "      <th>37</th>\n",
       "      <td>Le suivi des contacts, un \"moyen de prédilect...</td>\n",
       "      <td>En l'absence d'un médicament approprié et d'un...</td>\n",
       "      <td>2020-05-19T11:30:19.000Z</td>\n",
       "      <td>https://www.lalibre.be/belgique/societe/le-sui...</td>\n",
       "      <td>5ec7603552aa423524e876af</td>\n",
       "      <td>2.000000e-01</td>\n",
       "    </tr>\n",
       "    <tr>\n",
       "      <th>39</th>\n",
       "      <td>La Flandre estime avoir droit à davantage de ...</td>\n",
       "      <td>La Flandre a droit à une part considérablement...</td>\n",
       "      <td>2020-05-14T17:31:35.000Z</td>\n",
       "      <td>https://www.lalibre.be/belgique/politique-belg...</td>\n",
       "      <td>5ec760352251bf83fd64ad5c</td>\n",
       "      <td>-7.000000e-01</td>\n",
       "    </tr>\n",
       "    <tr>\n",
       "      <th>56</th>\n",
       "      <td>La compagnie aérienne Easyjet dit avoir subi ...</td>\n",
       "      <td>La compagnie aérienne britannique EasyJet a an...</td>\n",
       "      <td>2020-05-19T10:24:59.000Z</td>\n",
       "      <td>https://www.lalibre.be/economie/entreprises-st...</td>\n",
       "      <td>5ec7603703ad145e58d01785</td>\n",
       "      <td>-1.000000e-01</td>\n",
       "    </tr>\n",
       "    <tr>\n",
       "      <th>58</th>\n",
       "      <td>Amende de 50.000 euros pour Proximus pour non-...</td>\n",
       "      <td>Proximus écope d'une amende record de 50.000 e...</td>\n",
       "      <td>2020-05-18T17:28:01.000Z</td>\n",
       "      <td>https://www.lalibre.be/economie/entreprises-st...</td>\n",
       "      <td>5ec7603803ad145e58d0178a</td>\n",
       "      <td>-5.000000e-01</td>\n",
       "    </tr>\n",
       "    <tr>\n",
       "      <th>76</th>\n",
       "      <td>Toutes les décisions de justice seront biento...</td>\n",
       "      <td>Une opinion de Christophe Dubois (Professeur d...</td>\n",
       "      <td>2020-05-18T07:39:56.000Z</td>\n",
       "      <td>https://www.lalibre.be/debats/opinions/la-publ...</td>\n",
       "      <td>5ec7603d4b97c1c00b879813</td>\n",
       "      <td>-3.965082e-18</td>\n",
       "    </tr>\n",
       "  </tbody>\n",
       "</table>\n",
       "</div>"
      ],
      "text/plain": [
       "                                                title  \\\n",
       "5   9 millions de clients concernés par une cybera...   \n",
       "6           «Docteur Google» va-t-il sauver le monde?   \n",
       "10                          Gafam: le casse du siècle   \n",
       "14  UClouvain : des tests avec bugs et des étudian...   \n",
       "15  Traçage de contacts: Google et Apple mettent à...   \n",
       "37  Le suivi des contacts, un \"moyen de prédilect...   \n",
       "39  La Flandre estime avoir droit à davantage de ...   \n",
       "56  La compagnie aérienne Easyjet dit avoir subi ...   \n",
       "58  Amende de 50.000 euros pour Proximus pour non-...   \n",
       "76  Toutes les décisions de justice seront biento...   \n",
       "\n",
       "                                                 text  \\\n",
       "5   Dans un faible nombre de cas, les pirates ont ...   \n",
       "6   En 2013, Google créait une nouvelle filiale, C...   \n",
       "10  Quand le monde physique est à l’arrêt, le virt...   \n",
       "14  C’est une session d’examens inédite qui se pré...   \n",
       "15  Les américains Apple et Google ont mis à la di...   \n",
       "37  En l'absence d'un médicament approprié et d'un...   \n",
       "39  La Flandre a droit à une part considérablement...   \n",
       "56  La compagnie aérienne britannique EasyJet a an...   \n",
       "58  Proximus écope d'une amende record de 50.000 e...   \n",
       "76  Une opinion de Christophe Dubois (Professeur d...   \n",
       "\n",
       "                        date  \\\n",
       "5   2020-05-19T11:53:50.000Z   \n",
       "6   2020-05-16T10:04:58.000Z   \n",
       "10  2020-05-09T04:00:00.000Z   \n",
       "14  2020-05-21T13:15:39.000Z   \n",
       "15  2020-05-20T20:17:35.000Z   \n",
       "37  2020-05-19T11:30:19.000Z   \n",
       "39  2020-05-14T17:31:35.000Z   \n",
       "56  2020-05-19T10:24:59.000Z   \n",
       "58  2020-05-18T17:28:01.000Z   \n",
       "76  2020-05-18T07:39:56.000Z   \n",
       "\n",
       "                                                  url  \\\n",
       "5   https://plus.lesoir.be/301778/article/2020-05-...   \n",
       "6   https://plus.lesoir.be/301269/article/2020-05-...   \n",
       "10  https://plus.lesoir.be/299710/article/2020-05-...   \n",
       "14  https://www.rtbf.be/info/regions/detail_uclouv...   \n",
       "15  https://www.lalibre.be/economie/digital/tracag...   \n",
       "37  https://www.lalibre.be/belgique/societe/le-sui...   \n",
       "39  https://www.lalibre.be/belgique/politique-belg...   \n",
       "56  https://www.lalibre.be/economie/entreprises-st...   \n",
       "58  https://www.lalibre.be/economie/entreprises-st...   \n",
       "76  https://www.lalibre.be/debats/opinions/la-publ...   \n",
       "\n",
       "                         _id      polarity  \n",
       "5   5ec760338ae8910eece4965c  0.000000e+00  \n",
       "6   5ec760338ae8910eece4965f -7.000000e-01  \n",
       "10  5ec760338c227f981359e4d3  7.000000e-01  \n",
       "14  5ec7603416193c3860cf1659  2.333333e-01  \n",
       "15  5ec76034a34eca094d2ced09  2.500000e-02  \n",
       "37  5ec7603552aa423524e876af  2.000000e-01  \n",
       "39  5ec760352251bf83fd64ad5c -7.000000e-01  \n",
       "56  5ec7603703ad145e58d01785 -1.000000e-01  \n",
       "58  5ec7603803ad145e58d0178a -5.000000e-01  \n",
       "76  5ec7603d4b97c1c00b879813 -3.965082e-18  "
      ]
     },
     "execution_count": 93,
     "metadata": {},
     "output_type": "execute_result"
    }
   ],
   "source": [
    "df.head(10)"
   ]
  },
  {
   "cell_type": "code",
   "execution_count": 135,
   "metadata": {},
   "outputs": [],
   "source": [
    "df['language'] = 'fr'"
   ]
  },
  {
   "cell_type": "code",
   "execution_count": 136,
   "metadata": {},
   "outputs": [
    {
     "data": {
      "text/html": [
       "<div>\n",
       "<style scoped>\n",
       "    .dataframe tbody tr th:only-of-type {\n",
       "        vertical-align: middle;\n",
       "    }\n",
       "\n",
       "    .dataframe tbody tr th {\n",
       "        vertical-align: top;\n",
       "    }\n",
       "\n",
       "    .dataframe thead th {\n",
       "        text-align: right;\n",
       "    }\n",
       "</style>\n",
       "<table border=\"1\" class=\"dataframe\">\n",
       "  <thead>\n",
       "    <tr style=\"text-align: right;\">\n",
       "      <th></th>\n",
       "      <th>title</th>\n",
       "      <th>text</th>\n",
       "      <th>date</th>\n",
       "      <th>url</th>\n",
       "      <th>_id</th>\n",
       "      <th>polarity</th>\n",
       "      <th>language</th>\n",
       "    </tr>\n",
       "  </thead>\n",
       "  <tbody>\n",
       "    <tr>\n",
       "      <th>5</th>\n",
       "      <td>9 millions de clients concernés par une cybera...</td>\n",
       "      <td>Dans un faible nombre de cas, les pirates ont ...</td>\n",
       "      <td>2020-05-19T11:53:50.000Z</td>\n",
       "      <td>https://plus.lesoir.be/301778/article/2020-05-...</td>\n",
       "      <td>5ec760338ae8910eece4965c</td>\n",
       "      <td>0.000000</td>\n",
       "      <td>fr</td>\n",
       "    </tr>\n",
       "    <tr>\n",
       "      <th>6</th>\n",
       "      <td>«Docteur Google» va-t-il sauver le monde?</td>\n",
       "      <td>En 2013, Google créait une nouvelle filiale, C...</td>\n",
       "      <td>2020-05-16T10:04:58.000Z</td>\n",
       "      <td>https://plus.lesoir.be/301269/article/2020-05-...</td>\n",
       "      <td>5ec760338ae8910eece4965f</td>\n",
       "      <td>-0.700000</td>\n",
       "      <td>fr</td>\n",
       "    </tr>\n",
       "    <tr>\n",
       "      <th>10</th>\n",
       "      <td>Gafam: le casse du siècle</td>\n",
       "      <td>Quand le monde physique est à l’arrêt, le virt...</td>\n",
       "      <td>2020-05-09T04:00:00.000Z</td>\n",
       "      <td>https://plus.lesoir.be/299710/article/2020-05-...</td>\n",
       "      <td>5ec760338c227f981359e4d3</td>\n",
       "      <td>0.700000</td>\n",
       "      <td>fr</td>\n",
       "    </tr>\n",
       "    <tr>\n",
       "      <th>14</th>\n",
       "      <td>UClouvain : des tests avec bugs et des étudian...</td>\n",
       "      <td>C’est une session d’examens inédite qui se pré...</td>\n",
       "      <td>2020-05-21T13:15:39.000Z</td>\n",
       "      <td>https://www.rtbf.be/info/regions/detail_uclouv...</td>\n",
       "      <td>5ec7603416193c3860cf1659</td>\n",
       "      <td>0.233333</td>\n",
       "      <td>fr</td>\n",
       "    </tr>\n",
       "    <tr>\n",
       "      <th>15</th>\n",
       "      <td>Traçage de contacts: Google et Apple mettent à...</td>\n",
       "      <td>Les américains Apple et Google ont mis à la di...</td>\n",
       "      <td>2020-05-20T20:17:35.000Z</td>\n",
       "      <td>https://www.lalibre.be/economie/digital/tracag...</td>\n",
       "      <td>5ec76034a34eca094d2ced09</td>\n",
       "      <td>0.025000</td>\n",
       "      <td>fr</td>\n",
       "    </tr>\n",
       "  </tbody>\n",
       "</table>\n",
       "</div>"
      ],
      "text/plain": [
       "                                                title  \\\n",
       "5   9 millions de clients concernés par une cybera...   \n",
       "6           «Docteur Google» va-t-il sauver le monde?   \n",
       "10                          Gafam: le casse du siècle   \n",
       "14  UClouvain : des tests avec bugs et des étudian...   \n",
       "15  Traçage de contacts: Google et Apple mettent à...   \n",
       "\n",
       "                                                 text  \\\n",
       "5   Dans un faible nombre de cas, les pirates ont ...   \n",
       "6   En 2013, Google créait une nouvelle filiale, C...   \n",
       "10  Quand le monde physique est à l’arrêt, le virt...   \n",
       "14  C’est une session d’examens inédite qui se pré...   \n",
       "15  Les américains Apple et Google ont mis à la di...   \n",
       "\n",
       "                        date  \\\n",
       "5   2020-05-19T11:53:50.000Z   \n",
       "6   2020-05-16T10:04:58.000Z   \n",
       "10  2020-05-09T04:00:00.000Z   \n",
       "14  2020-05-21T13:15:39.000Z   \n",
       "15  2020-05-20T20:17:35.000Z   \n",
       "\n",
       "                                                  url  \\\n",
       "5   https://plus.lesoir.be/301778/article/2020-05-...   \n",
       "6   https://plus.lesoir.be/301269/article/2020-05-...   \n",
       "10  https://plus.lesoir.be/299710/article/2020-05-...   \n",
       "14  https://www.rtbf.be/info/regions/detail_uclouv...   \n",
       "15  https://www.lalibre.be/economie/digital/tracag...   \n",
       "\n",
       "                         _id  polarity language  \n",
       "5   5ec760338ae8910eece4965c  0.000000       fr  \n",
       "6   5ec760338ae8910eece4965f -0.700000       fr  \n",
       "10  5ec760338c227f981359e4d3  0.700000       fr  \n",
       "14  5ec7603416193c3860cf1659  0.233333       fr  \n",
       "15  5ec76034a34eca094d2ced09  0.025000       fr  "
      ]
     },
     "execution_count": 136,
     "metadata": {},
     "output_type": "execute_result"
    }
   ],
   "source": [
    "df.head()"
   ]
  },
  {
   "cell_type": "code",
   "execution_count": 204,
   "metadata": {},
   "outputs": [
    {
     "data": {
      "text/html": [
       "<div>\n",
       "<style scoped>\n",
       "    .dataframe tbody tr th:only-of-type {\n",
       "        vertical-align: middle;\n",
       "    }\n",
       "\n",
       "    .dataframe tbody tr th {\n",
       "        vertical-align: top;\n",
       "    }\n",
       "\n",
       "    .dataframe thead th {\n",
       "        text-align: right;\n",
       "    }\n",
       "</style>\n",
       "<table border=\"1\" class=\"dataframe\">\n",
       "  <thead>\n",
       "    <tr style=\"text-align: right;\">\n",
       "      <th></th>\n",
       "      <th>title</th>\n",
       "      <th>text</th>\n",
       "      <th>date</th>\n",
       "      <th>url</th>\n",
       "      <th>_id</th>\n",
       "      <th>polarity</th>\n",
       "      <th>language</th>\n",
       "    </tr>\n",
       "  </thead>\n",
       "  <tbody>\n",
       "    <tr>\n",
       "      <th>5</th>\n",
       "      <td>9 millions de clients concernés par une cybera...</td>\n",
       "      <td>Dans un faible nombre de cas, les pirates ont ...</td>\n",
       "      <td>2020-05-19T11:53:50.000Z</td>\n",
       "      <td>https://plus.lesoir.be/301778/article/2020-05-...</td>\n",
       "      <td>5ec760338ae8910eece4965c</td>\n",
       "      <td>0.000000</td>\n",
       "      <td>fr</td>\n",
       "    </tr>\n",
       "    <tr>\n",
       "      <th>6</th>\n",
       "      <td>«Docteur Google» va-t-il sauver le monde?</td>\n",
       "      <td>En 2013, Google créait une nouvelle filiale, C...</td>\n",
       "      <td>2020-05-16T10:04:58.000Z</td>\n",
       "      <td>https://plus.lesoir.be/301269/article/2020-05-...</td>\n",
       "      <td>5ec760338ae8910eece4965f</td>\n",
       "      <td>-0.700000</td>\n",
       "      <td>fr</td>\n",
       "    </tr>\n",
       "    <tr>\n",
       "      <th>10</th>\n",
       "      <td>Gafam: le casse du siècle</td>\n",
       "      <td>Quand le monde physique est à l’arrêt, le virt...</td>\n",
       "      <td>2020-05-09T04:00:00.000Z</td>\n",
       "      <td>https://plus.lesoir.be/299710/article/2020-05-...</td>\n",
       "      <td>5ec760338c227f981359e4d3</td>\n",
       "      <td>0.700000</td>\n",
       "      <td>fr</td>\n",
       "    </tr>\n",
       "    <tr>\n",
       "      <th>14</th>\n",
       "      <td>UClouvain : des tests avec bugs et des étudian...</td>\n",
       "      <td>C’est une session d’examens inédite qui se pré...</td>\n",
       "      <td>2020-05-21T13:15:39.000Z</td>\n",
       "      <td>https://www.rtbf.be/info/regions/detail_uclouv...</td>\n",
       "      <td>5ec7603416193c3860cf1659</td>\n",
       "      <td>0.233333</td>\n",
       "      <td>fr</td>\n",
       "    </tr>\n",
       "    <tr>\n",
       "      <th>15</th>\n",
       "      <td>Traçage de contacts: Google et Apple mettent à...</td>\n",
       "      <td>Les américains Apple et Google ont mis à la di...</td>\n",
       "      <td>2020-05-20T20:17:35.000Z</td>\n",
       "      <td>https://www.lalibre.be/economie/digital/tracag...</td>\n",
       "      <td>5ec76034a34eca094d2ced09</td>\n",
       "      <td>0.025000</td>\n",
       "      <td>fr</td>\n",
       "    </tr>\n",
       "  </tbody>\n",
       "</table>\n",
       "</div>"
      ],
      "text/plain": [
       "                                                title  \\\n",
       "5   9 millions de clients concernés par une cybera...   \n",
       "6           «Docteur Google» va-t-il sauver le monde?   \n",
       "10                          Gafam: le casse du siècle   \n",
       "14  UClouvain : des tests avec bugs et des étudian...   \n",
       "15  Traçage de contacts: Google et Apple mettent à...   \n",
       "\n",
       "                                                 text  \\\n",
       "5   Dans un faible nombre de cas, les pirates ont ...   \n",
       "6   En 2013, Google créait une nouvelle filiale, C...   \n",
       "10  Quand le monde physique est à l’arrêt, le virt...   \n",
       "14  C’est une session d’examens inédite qui se pré...   \n",
       "15  Les américains Apple et Google ont mis à la di...   \n",
       "\n",
       "                        date  \\\n",
       "5   2020-05-19T11:53:50.000Z   \n",
       "6   2020-05-16T10:04:58.000Z   \n",
       "10  2020-05-09T04:00:00.000Z   \n",
       "14  2020-05-21T13:15:39.000Z   \n",
       "15  2020-05-20T20:17:35.000Z   \n",
       "\n",
       "                                                  url  \\\n",
       "5   https://plus.lesoir.be/301778/article/2020-05-...   \n",
       "6   https://plus.lesoir.be/301269/article/2020-05-...   \n",
       "10  https://plus.lesoir.be/299710/article/2020-05-...   \n",
       "14  https://www.rtbf.be/info/regions/detail_uclouv...   \n",
       "15  https://www.lalibre.be/economie/digital/tracag...   \n",
       "\n",
       "                         _id  polarity language  \n",
       "5   5ec760338ae8910eece4965c  0.000000       fr  \n",
       "6   5ec760338ae8910eece4965f -0.700000       fr  \n",
       "10  5ec760338c227f981359e4d3  0.700000       fr  \n",
       "14  5ec7603416193c3860cf1659  0.233333       fr  \n",
       "15  5ec76034a34eca094d2ced09  0.025000       fr  "
      ]
     },
     "execution_count": 204,
     "metadata": {},
     "output_type": "execute_result"
    }
   ],
   "source": [
    "df.head()"
   ]
  },
  {
   "cell_type": "code",
   "execution_count": 142,
   "metadata": {},
   "outputs": [],
   "source": [
    "import re\n",
    "import matplotlib"
   ]
  },
  {
   "cell_type": "code",
   "execution_count": 228,
   "metadata": {},
   "outputs": [],
   "source": [
    "df.set_index('_id', inplace = True)"
   ]
  },
  {
   "cell_type": "code",
   "execution_count": 229,
   "metadata": {},
   "outputs": [
    {
     "data": {
      "text/html": [
       "<div>\n",
       "<style scoped>\n",
       "    .dataframe tbody tr th:only-of-type {\n",
       "        vertical-align: middle;\n",
       "    }\n",
       "\n",
       "    .dataframe tbody tr th {\n",
       "        vertical-align: top;\n",
       "    }\n",
       "\n",
       "    .dataframe thead th {\n",
       "        text-align: right;\n",
       "    }\n",
       "</style>\n",
       "<table border=\"1\" class=\"dataframe\">\n",
       "  <thead>\n",
       "    <tr style=\"text-align: right;\">\n",
       "      <th></th>\n",
       "      <th>title</th>\n",
       "      <th>text</th>\n",
       "      <th>date</th>\n",
       "      <th>url</th>\n",
       "      <th>polarity</th>\n",
       "      <th>language</th>\n",
       "    </tr>\n",
       "    <tr>\n",
       "      <th>_id</th>\n",
       "      <th></th>\n",
       "      <th></th>\n",
       "      <th></th>\n",
       "      <th></th>\n",
       "      <th></th>\n",
       "      <th></th>\n",
       "    </tr>\n",
       "  </thead>\n",
       "  <tbody>\n",
       "    <tr>\n",
       "      <th>5ec760338ae8910eece4965c</th>\n",
       "      <td>9 millions de clients concernés par une cybera...</td>\n",
       "      <td>Dans un faible nombre de cas, les pirates ont ...</td>\n",
       "      <td>2020-05-19T11:53:50.000Z</td>\n",
       "      <td>https://plus.lesoir.be/301778/article/2020-05-...</td>\n",
       "      <td>0.000000</td>\n",
       "      <td>fr</td>\n",
       "    </tr>\n",
       "    <tr>\n",
       "      <th>5ec760338ae8910eece4965f</th>\n",
       "      <td>«Docteur Google» va-t-il sauver le monde?</td>\n",
       "      <td>En 2013, Google créait une nouvelle filiale, C...</td>\n",
       "      <td>2020-05-16T10:04:58.000Z</td>\n",
       "      <td>https://plus.lesoir.be/301269/article/2020-05-...</td>\n",
       "      <td>-0.700000</td>\n",
       "      <td>fr</td>\n",
       "    </tr>\n",
       "    <tr>\n",
       "      <th>5ec760338c227f981359e4d3</th>\n",
       "      <td>Gafam: le casse du siècle</td>\n",
       "      <td>Quand le monde physique est à l’arrêt, le virt...</td>\n",
       "      <td>2020-05-09T04:00:00.000Z</td>\n",
       "      <td>https://plus.lesoir.be/299710/article/2020-05-...</td>\n",
       "      <td>0.700000</td>\n",
       "      <td>fr</td>\n",
       "    </tr>\n",
       "    <tr>\n",
       "      <th>5ec7603416193c3860cf1659</th>\n",
       "      <td>UClouvain : des tests avec bugs et des étudian...</td>\n",
       "      <td>C’est une session d’examens inédite qui se pré...</td>\n",
       "      <td>2020-05-21T13:15:39.000Z</td>\n",
       "      <td>https://www.rtbf.be/info/regions/detail_uclouv...</td>\n",
       "      <td>0.233333</td>\n",
       "      <td>fr</td>\n",
       "    </tr>\n",
       "    <tr>\n",
       "      <th>5ec76034a34eca094d2ced09</th>\n",
       "      <td>Traçage de contacts: Google et Apple mettent à...</td>\n",
       "      <td>Les américains Apple et Google ont mis à la di...</td>\n",
       "      <td>2020-05-20T20:17:35.000Z</td>\n",
       "      <td>https://www.lalibre.be/economie/digital/tracag...</td>\n",
       "      <td>0.025000</td>\n",
       "      <td>fr</td>\n",
       "    </tr>\n",
       "  </tbody>\n",
       "</table>\n",
       "</div>"
      ],
      "text/plain": [
       "                                                                      title  \\\n",
       "_id                                                                           \n",
       "5ec760338ae8910eece4965c  9 millions de clients concernés par une cybera...   \n",
       "5ec760338ae8910eece4965f          «Docteur Google» va-t-il sauver le monde?   \n",
       "5ec760338c227f981359e4d3                          Gafam: le casse du siècle   \n",
       "5ec7603416193c3860cf1659  UClouvain : des tests avec bugs et des étudian...   \n",
       "5ec76034a34eca094d2ced09  Traçage de contacts: Google et Apple mettent à...   \n",
       "\n",
       "                                                                       text  \\\n",
       "_id                                                                           \n",
       "5ec760338ae8910eece4965c  Dans un faible nombre de cas, les pirates ont ...   \n",
       "5ec760338ae8910eece4965f  En 2013, Google créait une nouvelle filiale, C...   \n",
       "5ec760338c227f981359e4d3  Quand le monde physique est à l’arrêt, le virt...   \n",
       "5ec7603416193c3860cf1659  C’est une session d’examens inédite qui se pré...   \n",
       "5ec76034a34eca094d2ced09  Les américains Apple et Google ont mis à la di...   \n",
       "\n",
       "                                              date  \\\n",
       "_id                                                  \n",
       "5ec760338ae8910eece4965c  2020-05-19T11:53:50.000Z   \n",
       "5ec760338ae8910eece4965f  2020-05-16T10:04:58.000Z   \n",
       "5ec760338c227f981359e4d3  2020-05-09T04:00:00.000Z   \n",
       "5ec7603416193c3860cf1659  2020-05-21T13:15:39.000Z   \n",
       "5ec76034a34eca094d2ced09  2020-05-20T20:17:35.000Z   \n",
       "\n",
       "                                                                        url  \\\n",
       "_id                                                                           \n",
       "5ec760338ae8910eece4965c  https://plus.lesoir.be/301778/article/2020-05-...   \n",
       "5ec760338ae8910eece4965f  https://plus.lesoir.be/301269/article/2020-05-...   \n",
       "5ec760338c227f981359e4d3  https://plus.lesoir.be/299710/article/2020-05-...   \n",
       "5ec7603416193c3860cf1659  https://www.rtbf.be/info/regions/detail_uclouv...   \n",
       "5ec76034a34eca094d2ced09  https://www.lalibre.be/economie/digital/tracag...   \n",
       "\n",
       "                          polarity language  \n",
       "_id                                          \n",
       "5ec760338ae8910eece4965c  0.000000       fr  \n",
       "5ec760338ae8910eece4965f -0.700000       fr  \n",
       "5ec760338c227f981359e4d3  0.700000       fr  \n",
       "5ec7603416193c3860cf1659  0.233333       fr  \n",
       "5ec76034a34eca094d2ced09  0.025000       fr  "
      ]
     },
     "execution_count": 229,
     "metadata": {},
     "output_type": "execute_result"
    }
   ],
   "source": [
    "df.head()"
   ]
  },
  {
   "cell_type": "code",
   "execution_count": 308,
   "metadata": {},
   "outputs": [],
   "source": [
    "df.reset_index(drop=False, inplace=True)\n"
   ]
  },
  {
   "cell_type": "code",
   "execution_count": 314,
   "metadata": {},
   "outputs": [],
   "source": [
    "x = str(df.head(2)['date'])"
   ]
  },
  {
   "cell_type": "code",
   "execution_count": 313,
   "metadata": {},
   "outputs": [
    {
     "data": {
      "text/plain": [
       "<re.Match object; span=(5, 9), match='2020'>"
      ]
     },
     "execution_count": 313,
     "metadata": {},
     "output_type": "execute_result"
    }
   ],
   "source": [
    "re.search('\\d\\d\\d\\d', str(x))"
   ]
  },
  {
   "cell_type": "code",
   "execution_count": 316,
   "metadata": {},
   "outputs": [
    {
     "data": {
      "text/plain": [
       "5434"
      ]
     },
     "execution_count": 316,
     "metadata": {},
     "output_type": "execute_result"
    }
   ],
   "source": [
    "len(df['date'])"
   ]
  },
  {
   "cell_type": "code",
   "execution_count": 320,
   "metadata": {},
   "outputs": [],
   "source": [
    "def change_year(column):\n",
    "    def find_year(s: str):\n",
    "            matcher = re.search('\\d\\d\\d\\d',str(s))\n",
    "            \n",
    "            return int(matcher.group(0))\n",
    "            \n",
    "    column = column.apply(find_year)\n",
    "    return column\n",
    "    "
   ]
  },
  {
   "cell_type": "code",
   "execution_count": 321,
   "metadata": {},
   "outputs": [],
   "source": [
    "df['date'] = change_year(df['date'])"
   ]
  },
  {
   "cell_type": "code",
   "execution_count": 323,
   "metadata": {},
   "outputs": [
    {
     "data": {
      "text/plain": [
       "array([2020, 2021, 2022, 2023])"
      ]
     },
     "execution_count": 323,
     "metadata": {},
     "output_type": "execute_result"
    }
   ],
   "source": [
    "df['date'].unique()"
   ]
  },
  {
   "cell_type": "code",
   "execution_count": 324,
   "metadata": {},
   "outputs": [],
   "source": [
    "df_fr = df"
   ]
  },
  {
   "cell_type": "code",
   "execution_count": 328,
   "metadata": {},
   "outputs": [
    {
     "data": {
      "text/html": [
       "<div>\n",
       "<style scoped>\n",
       "    .dataframe tbody tr th:only-of-type {\n",
       "        vertical-align: middle;\n",
       "    }\n",
       "\n",
       "    .dataframe tbody tr th {\n",
       "        vertical-align: top;\n",
       "    }\n",
       "\n",
       "    .dataframe thead th {\n",
       "        text-align: right;\n",
       "    }\n",
       "</style>\n",
       "<table border=\"1\" class=\"dataframe\">\n",
       "  <thead>\n",
       "    <tr style=\"text-align: right;\">\n",
       "      <th></th>\n",
       "      <th>_id</th>\n",
       "      <th>title</th>\n",
       "      <th>text</th>\n",
       "      <th>date</th>\n",
       "      <th>url</th>\n",
       "      <th>polarity</th>\n",
       "      <th>language</th>\n",
       "    </tr>\n",
       "  </thead>\n",
       "  <tbody>\n",
       "    <tr>\n",
       "      <th>0</th>\n",
       "      <td>5ec760338ae8910eece4965c</td>\n",
       "      <td>9 millions de clients concernés par une cybera...</td>\n",
       "      <td>Dans un faible nombre de cas, les pirates ont ...</td>\n",
       "      <td>2020</td>\n",
       "      <td>https://plus.lesoir.be/301778/article/2020-05-...</td>\n",
       "      <td>0.000000</td>\n",
       "      <td>fr</td>\n",
       "    </tr>\n",
       "    <tr>\n",
       "      <th>1</th>\n",
       "      <td>5ec760338ae8910eece4965f</td>\n",
       "      <td>«Docteur Google» va-t-il sauver le monde?</td>\n",
       "      <td>En 2013, Google créait une nouvelle filiale, C...</td>\n",
       "      <td>2020</td>\n",
       "      <td>https://plus.lesoir.be/301269/article/2020-05-...</td>\n",
       "      <td>-0.700000</td>\n",
       "      <td>fr</td>\n",
       "    </tr>\n",
       "    <tr>\n",
       "      <th>2</th>\n",
       "      <td>5ec760338c227f981359e4d3</td>\n",
       "      <td>Gafam: le casse du siècle</td>\n",
       "      <td>Quand le monde physique est à l’arrêt, le virt...</td>\n",
       "      <td>2020</td>\n",
       "      <td>https://plus.lesoir.be/299710/article/2020-05-...</td>\n",
       "      <td>0.700000</td>\n",
       "      <td>fr</td>\n",
       "    </tr>\n",
       "    <tr>\n",
       "      <th>3</th>\n",
       "      <td>5ec7603416193c3860cf1659</td>\n",
       "      <td>UClouvain : des tests avec bugs et des étudian...</td>\n",
       "      <td>C’est une session d’examens inédite qui se pré...</td>\n",
       "      <td>2020</td>\n",
       "      <td>https://www.rtbf.be/info/regions/detail_uclouv...</td>\n",
       "      <td>0.233333</td>\n",
       "      <td>fr</td>\n",
       "    </tr>\n",
       "    <tr>\n",
       "      <th>4</th>\n",
       "      <td>5ec76034a34eca094d2ced09</td>\n",
       "      <td>Traçage de contacts: Google et Apple mettent à...</td>\n",
       "      <td>Les américains Apple et Google ont mis à la di...</td>\n",
       "      <td>2020</td>\n",
       "      <td>https://www.lalibre.be/economie/digital/tracag...</td>\n",
       "      <td>0.025000</td>\n",
       "      <td>fr</td>\n",
       "    </tr>\n",
       "    <tr>\n",
       "      <th>...</th>\n",
       "      <td>...</td>\n",
       "      <td>...</td>\n",
       "      <td>...</td>\n",
       "      <td>...</td>\n",
       "      <td>...</td>\n",
       "      <td>...</td>\n",
       "      <td>...</td>\n",
       "    </tr>\n",
       "    <tr>\n",
       "      <th>5429</th>\n",
       "      <td>64c5598b3c8e1ee157d07d9d</td>\n",
       "      <td>Le président colombien Gustavo Petro annonce l...</td>\n",
       "      <td>Le parquet a précisé que Nicolas Petro avait é...</td>\n",
       "      <td>2023</td>\n",
       "      <td>https://www.lalibre.be/international/amerique/...</td>\n",
       "      <td>0.000000</td>\n",
       "      <td>fr</td>\n",
       "    </tr>\n",
       "    <tr>\n",
       "      <th>5430</th>\n",
       "      <td>64c78c0916258834714f278d</td>\n",
       "      <td>La Mini Interaction Unit et son écran OLED ron...</td>\n",
       "      <td>La Mini Interaction Unit fait son apparition s...</td>\n",
       "      <td>2023</td>\n",
       "      <td>https://www.levif.be/societe/mobilite/auto/la-...</td>\n",
       "      <td>0.166667</td>\n",
       "      <td>fr</td>\n",
       "    </tr>\n",
       "    <tr>\n",
       "      <th>5431</th>\n",
       "      <td>64c78c0916258834714f2791</td>\n",
       "      <td>UE: la nomination de Scott Morton, nouvelle il...</td>\n",
       "      <td>Selon Franklin Dehousse, professeur à l’univer...</td>\n",
       "      <td>2023</td>\n",
       "      <td>https://www.levif.be/international/ue-la-nomin...</td>\n",
       "      <td>0.030000</td>\n",
       "      <td>fr</td>\n",
       "    </tr>\n",
       "    <tr>\n",
       "      <th>5432</th>\n",
       "      <td>64c78c0916258834714f2792</td>\n",
       "      <td>Les 10 derniers jours de juillet ont été les p...</td>\n",
       "      <td>Il n’a jamais autant plu en Belgique pour une ...</td>\n",
       "      <td>2023</td>\n",
       "      <td>https://www.levif.be/societe/environnement/les...</td>\n",
       "      <td>0.000000</td>\n",
       "      <td>fr</td>\n",
       "    </tr>\n",
       "    <tr>\n",
       "      <th>5433</th>\n",
       "      <td>64c8dd8a054c53a14bf29845</td>\n",
       "      <td>La planche et la chaise parmi les exercices le...</td>\n",
       "      <td>L'OMS précise qu'au moins 150 minutes par sema...</td>\n",
       "      <td>2023</td>\n",
       "      <td>https://www.rtbf.be/article/la-planche-et-la-c...</td>\n",
       "      <td>0.400000</td>\n",
       "      <td>fr</td>\n",
       "    </tr>\n",
       "  </tbody>\n",
       "</table>\n",
       "<p>5434 rows × 7 columns</p>\n",
       "</div>"
      ],
      "text/plain": [
       "                           _id  \\\n",
       "0     5ec760338ae8910eece4965c   \n",
       "1     5ec760338ae8910eece4965f   \n",
       "2     5ec760338c227f981359e4d3   \n",
       "3     5ec7603416193c3860cf1659   \n",
       "4     5ec76034a34eca094d2ced09   \n",
       "...                        ...   \n",
       "5429  64c5598b3c8e1ee157d07d9d   \n",
       "5430  64c78c0916258834714f278d   \n",
       "5431  64c78c0916258834714f2791   \n",
       "5432  64c78c0916258834714f2792   \n",
       "5433  64c8dd8a054c53a14bf29845   \n",
       "\n",
       "                                                  title  \\\n",
       "0     9 millions de clients concernés par une cybera...   \n",
       "1             «Docteur Google» va-t-il sauver le monde?   \n",
       "2                             Gafam: le casse du siècle   \n",
       "3     UClouvain : des tests avec bugs et des étudian...   \n",
       "4     Traçage de contacts: Google et Apple mettent à...   \n",
       "...                                                 ...   \n",
       "5429  Le président colombien Gustavo Petro annonce l...   \n",
       "5430  La Mini Interaction Unit et son écran OLED ron...   \n",
       "5431  UE: la nomination de Scott Morton, nouvelle il...   \n",
       "5432  Les 10 derniers jours de juillet ont été les p...   \n",
       "5433  La planche et la chaise parmi les exercices le...   \n",
       "\n",
       "                                                   text  date  \\\n",
       "0     Dans un faible nombre de cas, les pirates ont ...  2020   \n",
       "1     En 2013, Google créait une nouvelle filiale, C...  2020   \n",
       "2     Quand le monde physique est à l’arrêt, le virt...  2020   \n",
       "3     C’est une session d’examens inédite qui se pré...  2020   \n",
       "4     Les américains Apple et Google ont mis à la di...  2020   \n",
       "...                                                 ...   ...   \n",
       "5429  Le parquet a précisé que Nicolas Petro avait é...  2023   \n",
       "5430  La Mini Interaction Unit fait son apparition s...  2023   \n",
       "5431  Selon Franklin Dehousse, professeur à l’univer...  2023   \n",
       "5432  Il n’a jamais autant plu en Belgique pour une ...  2023   \n",
       "5433  L'OMS précise qu'au moins 150 minutes par sema...  2023   \n",
       "\n",
       "                                                    url  polarity language  \n",
       "0     https://plus.lesoir.be/301778/article/2020-05-...  0.000000       fr  \n",
       "1     https://plus.lesoir.be/301269/article/2020-05-... -0.700000       fr  \n",
       "2     https://plus.lesoir.be/299710/article/2020-05-...  0.700000       fr  \n",
       "3     https://www.rtbf.be/info/regions/detail_uclouv...  0.233333       fr  \n",
       "4     https://www.lalibre.be/economie/digital/tracag...  0.025000       fr  \n",
       "...                                                 ...       ...      ...  \n",
       "5429  https://www.lalibre.be/international/amerique/...  0.000000       fr  \n",
       "5430  https://www.levif.be/societe/mobilite/auto/la-...  0.166667       fr  \n",
       "5431  https://www.levif.be/international/ue-la-nomin...  0.030000       fr  \n",
       "5432  https://www.levif.be/societe/environnement/les...  0.000000       fr  \n",
       "5433  https://www.rtbf.be/article/la-planche-et-la-c...  0.400000       fr  \n",
       "\n",
       "[5434 rows x 7 columns]"
      ]
     },
     "execution_count": 328,
     "metadata": {},
     "output_type": "execute_result"
    }
   ],
   "source": [
    "df_fr"
   ]
  },
  {
   "cell_type": "markdown",
   "metadata": {},
   "source": [
    "NL"
   ]
  },
  {
   "cell_type": "code",
   "execution_count": 329,
   "metadata": {},
   "outputs": [],
   "source": [
    "df_nl = pd.read_csv('dutch_gegevens2.csv')"
   ]
  },
  {
   "cell_type": "code",
   "execution_count": 338,
   "metadata": {},
   "outputs": [],
   "source": [
    "from langdetect import detect_langs\n",
    "import numpy as np"
   ]
  },
  {
   "cell_type": "code",
   "execution_count": 334,
   "metadata": {},
   "outputs": [
    {
     "data": {
      "text/html": [
       "<div>\n",
       "<style scoped>\n",
       "    .dataframe tbody tr th:only-of-type {\n",
       "        vertical-align: middle;\n",
       "    }\n",
       "\n",
       "    .dataframe tbody tr th {\n",
       "        vertical-align: top;\n",
       "    }\n",
       "\n",
       "    .dataframe thead th {\n",
       "        text-align: right;\n",
       "    }\n",
       "</style>\n",
       "<table border=\"1\" class=\"dataframe\">\n",
       "  <thead>\n",
       "    <tr style=\"text-align: right;\">\n",
       "      <th></th>\n",
       "      <th>_id</th>\n",
       "      <th>url</th>\n",
       "      <th>date</th>\n",
       "      <th>text</th>\n",
       "      <th>title</th>\n",
       "    </tr>\n",
       "  </thead>\n",
       "  <tbody>\n",
       "    <tr>\n",
       "      <th>0</th>\n",
       "      <td>5ec806707db77e056c19b7d9</td>\n",
       "      <td>https://www.nieuwsblad.be/cnt/dmf20200522_0496...</td>\n",
       "      <td>2020-05-22T14:02:00.000Z</td>\n",
       "      <td>Koksijde - Nu de tweedeverblijvers naar de kus...</td>\n",
       "      <td>Burgemeester Koksijde wil informatie van conta...</td>\n",
       "    </tr>\n",
       "    <tr>\n",
       "      <th>1</th>\n",
       "      <td>5ec8067060653ee843c32706</td>\n",
       "      <td>https://www.nieuwsblad.be/cnt/dmf20200519_0496...</td>\n",
       "      <td>2020-05-20T01:25:00.000Z</td>\n",
       "      <td>Luchtvaartmaatschappij EasyJet is getroffen do...</td>\n",
       "      <td>Gegevens 9 miljoen EasyJet-klanten gestolen</td>\n",
       "    </tr>\n",
       "    <tr>\n",
       "      <th>2</th>\n",
       "      <td>5ec806708e00d85b900a3fd6</td>\n",
       "      <td>https://www.nieuwsblad.be/cnt/dmf20200519_0496...</td>\n",
       "      <td>2020-05-19T11:15:34.000Z</td>\n",
       "      <td>Vliegmaatschappij easyJet is getroffen door ee...</td>\n",
       "      <td>Easyjet heeft cyberaanval ondergaan: gegevens ...</td>\n",
       "    </tr>\n",
       "    <tr>\n",
       "      <th>3</th>\n",
       "      <td>5ec80673b64548ac45316e2f</td>\n",
       "      <td>https://www.tijd.be/r/t/1/id/10227446</td>\n",
       "      <td>2020-05-15T23:00:03.000Z</td>\n",
       "      <td>De bedrijfsdata-expert Graydon berekende onlan...</td>\n",
       "      <td>Wat kunt u als ondernemer doen als de bank ‘ne...</td>\n",
       "    </tr>\n",
       "    <tr>\n",
       "      <th>4</th>\n",
       "      <td>5ec80674d884dd1dc9f12bb1</td>\n",
       "      <td>https://www.tijd.be/r/t/1/id/10227443</td>\n",
       "      <td>2020-05-20T08:12:10.000Z</td>\n",
       "      <td>Passage uit een lezersbrief: ‘Mijn moeder is i...</td>\n",
       "      <td>Eindelijk regels voor snellere uitbetaling van...</td>\n",
       "    </tr>\n",
       "    <tr>\n",
       "      <th>...</th>\n",
       "      <td>...</td>\n",
       "      <td>...</td>\n",
       "      <td>...</td>\n",
       "      <td>...</td>\n",
       "      <td>...</td>\n",
       "    </tr>\n",
       "    <tr>\n",
       "      <th>9788</th>\n",
       "      <td>64cbf1095dae7248fec79bbf</td>\n",
       "      <td>https://www.nieuwsblad.be/cnt/dmf20230803_9650...</td>\n",
       "      <td>2023-08-03T18:01:24.000Z</td>\n",
       "      <td>In de toekomst kunnen gebruikers persoonlijke,...</td>\n",
       "      <td>Google neemt extra maatregelen om gegevens van...</td>\n",
       "    </tr>\n",
       "    <tr>\n",
       "      <th>9789</th>\n",
       "      <td>64cbf10b53c69f079d30ab3a</td>\n",
       "      <td>https://www.knack.be/sport/wielrennen/hoe-zwaa...</td>\n",
       "      <td>2023-08-03T15:30:00.000Z</td>\n",
       "      <td>Het WK-parcours in Glasgow is zeer apart, met ...</td>\n",
       "      <td>Hoe zwaar is het parcours van het WK wielrenne...</td>\n",
       "    </tr>\n",
       "    <tr>\n",
       "      <th>9790</th>\n",
       "      <td>64cc294a5da43581c500f102</td>\n",
       "      <td>https://www.hbvl.be/cnt/dmf20230803_96674721</td>\n",
       "      <td>2023-08-03T18:32:14.000Z</td>\n",
       "      <td>In de toekomst kunnen gebruikers persoonlijke,...</td>\n",
       "      <td>Google neemt extra maatregelen om gegevens van...</td>\n",
       "    </tr>\n",
       "    <tr>\n",
       "      <th>9791</th>\n",
       "      <td>64cc294be11aee08766cff24</td>\n",
       "      <td>https://www.knack.be/nieuws/wereld/nieuwe-stud...</td>\n",
       "      <td>2023-08-03T17:19:24.000Z</td>\n",
       "      <td>De reddingsoperaties voor migranten in het cen...</td>\n",
       "      <td>Nieuwe studie: Reddingsoperaties op zee moedig...</td>\n",
       "    </tr>\n",
       "    <tr>\n",
       "      <th>9792</th>\n",
       "      <td>64cc99c9a8204c063a57e20a</td>\n",
       "      <td>https://www.standaard.be/cnt/dmf20230803_97329807</td>\n",
       "      <td>2023-08-04T03:00:00.000Z</td>\n",
       "      <td>De ontbossing van het regenwoud in Brazilië is...</td>\n",
       "      <td>Tempo ontbossing Amazonewoud neemt af</td>\n",
       "    </tr>\n",
       "  </tbody>\n",
       "</table>\n",
       "<p>9793 rows × 5 columns</p>\n",
       "</div>"
      ],
      "text/plain": [
       "                           _id  \\\n",
       "0     5ec806707db77e056c19b7d9   \n",
       "1     5ec8067060653ee843c32706   \n",
       "2     5ec806708e00d85b900a3fd6   \n",
       "3     5ec80673b64548ac45316e2f   \n",
       "4     5ec80674d884dd1dc9f12bb1   \n",
       "...                        ...   \n",
       "9788  64cbf1095dae7248fec79bbf   \n",
       "9789  64cbf10b53c69f079d30ab3a   \n",
       "9790  64cc294a5da43581c500f102   \n",
       "9791  64cc294be11aee08766cff24   \n",
       "9792  64cc99c9a8204c063a57e20a   \n",
       "\n",
       "                                                    url  \\\n",
       "0     https://www.nieuwsblad.be/cnt/dmf20200522_0496...   \n",
       "1     https://www.nieuwsblad.be/cnt/dmf20200519_0496...   \n",
       "2     https://www.nieuwsblad.be/cnt/dmf20200519_0496...   \n",
       "3                 https://www.tijd.be/r/t/1/id/10227446   \n",
       "4                 https://www.tijd.be/r/t/1/id/10227443   \n",
       "...                                                 ...   \n",
       "9788  https://www.nieuwsblad.be/cnt/dmf20230803_9650...   \n",
       "9789  https://www.knack.be/sport/wielrennen/hoe-zwaa...   \n",
       "9790       https://www.hbvl.be/cnt/dmf20230803_96674721   \n",
       "9791  https://www.knack.be/nieuws/wereld/nieuwe-stud...   \n",
       "9792  https://www.standaard.be/cnt/dmf20230803_97329807   \n",
       "\n",
       "                          date  \\\n",
       "0     2020-05-22T14:02:00.000Z   \n",
       "1     2020-05-20T01:25:00.000Z   \n",
       "2     2020-05-19T11:15:34.000Z   \n",
       "3     2020-05-15T23:00:03.000Z   \n",
       "4     2020-05-20T08:12:10.000Z   \n",
       "...                        ...   \n",
       "9788  2023-08-03T18:01:24.000Z   \n",
       "9789  2023-08-03T15:30:00.000Z   \n",
       "9790  2023-08-03T18:32:14.000Z   \n",
       "9791  2023-08-03T17:19:24.000Z   \n",
       "9792  2023-08-04T03:00:00.000Z   \n",
       "\n",
       "                                                   text  \\\n",
       "0     Koksijde - Nu de tweedeverblijvers naar de kus...   \n",
       "1     Luchtvaartmaatschappij EasyJet is getroffen do...   \n",
       "2     Vliegmaatschappij easyJet is getroffen door ee...   \n",
       "3     De bedrijfsdata-expert Graydon berekende onlan...   \n",
       "4     Passage uit een lezersbrief: ‘Mijn moeder is i...   \n",
       "...                                                 ...   \n",
       "9788  In de toekomst kunnen gebruikers persoonlijke,...   \n",
       "9789  Het WK-parcours in Glasgow is zeer apart, met ...   \n",
       "9790  In de toekomst kunnen gebruikers persoonlijke,...   \n",
       "9791  De reddingsoperaties voor migranten in het cen...   \n",
       "9792  De ontbossing van het regenwoud in Brazilië is...   \n",
       "\n",
       "                                                  title  \n",
       "0     Burgemeester Koksijde wil informatie van conta...  \n",
       "1           Gegevens 9 miljoen EasyJet-klanten gestolen  \n",
       "2     Easyjet heeft cyberaanval ondergaan: gegevens ...  \n",
       "3     Wat kunt u als ondernemer doen als de bank ‘ne...  \n",
       "4     Eindelijk regels voor snellere uitbetaling van...  \n",
       "...                                                 ...  \n",
       "9788  Google neemt extra maatregelen om gegevens van...  \n",
       "9789  Hoe zwaar is het parcours van het WK wielrenne...  \n",
       "9790  Google neemt extra maatregelen om gegevens van...  \n",
       "9791  Nieuwe studie: Reddingsoperaties op zee moedig...  \n",
       "9792              Tempo ontbossing Amazonewoud neemt af  \n",
       "\n",
       "[9793 rows x 5 columns]"
      ]
     },
     "execution_count": 334,
     "metadata": {},
     "output_type": "execute_result"
    }
   ],
   "source": [
    "df_nl"
   ]
  },
  {
   "cell_type": "code",
   "execution_count": 340,
   "metadata": {},
   "outputs": [],
   "source": [
    "languages= []\n",
    "for row in range(len(df_nl)):\n",
    "    languages.append(str(detect_langs(str((df_nl.iloc[row, 3])))))"
   ]
  },
  {
   "cell_type": "code",
   "execution_count": 352,
   "metadata": {},
   "outputs": [
    {
     "data": {
      "text/plain": [
       "9793"
      ]
     },
     "execution_count": 352,
     "metadata": {},
     "output_type": "execute_result"
    }
   ],
   "source": [
    "len(languages)"
   ]
  },
  {
   "cell_type": "code",
   "execution_count": 383,
   "metadata": {},
   "outputs": [
    {
     "data": {
      "text/plain": [
       "'nl'"
      ]
     },
     "execution_count": 383,
     "metadata": {},
     "output_type": "execute_result"
    }
   ],
   "source": [
    "str(languages[1]).split(':')[0][1:]"
   ]
  },
  {
   "cell_type": "code",
   "execution_count": 384,
   "metadata": {},
   "outputs": [],
   "source": [
    "langs = [str(lang).split(':')[0][1:] for lang in languages]"
   ]
  },
  {
   "cell_type": "code",
   "execution_count": 386,
   "metadata": {},
   "outputs": [],
   "source": [
    "langs_set = set(langs)"
   ]
  },
  {
   "cell_type": "code",
   "execution_count": 387,
   "metadata": {},
   "outputs": [
    {
     "data": {
      "text/plain": [
       "{'af', 'fr', 'nl'}"
      ]
     },
     "execution_count": 387,
     "metadata": {},
     "output_type": "execute_result"
    }
   ],
   "source": [
    "langs_set"
   ]
  },
  {
   "cell_type": "code",
   "execution_count": 394,
   "metadata": {},
   "outputs": [],
   "source": [
    "df_nl['language'] = langs"
   ]
  },
  {
   "cell_type": "code",
   "execution_count": 395,
   "metadata": {},
   "outputs": [
    {
     "data": {
      "text/html": [
       "<div>\n",
       "<style scoped>\n",
       "    .dataframe tbody tr th:only-of-type {\n",
       "        vertical-align: middle;\n",
       "    }\n",
       "\n",
       "    .dataframe tbody tr th {\n",
       "        vertical-align: top;\n",
       "    }\n",
       "\n",
       "    .dataframe thead th {\n",
       "        text-align: right;\n",
       "    }\n",
       "</style>\n",
       "<table border=\"1\" class=\"dataframe\">\n",
       "  <thead>\n",
       "    <tr style=\"text-align: right;\">\n",
       "      <th></th>\n",
       "      <th>_id</th>\n",
       "      <th>url</th>\n",
       "      <th>date</th>\n",
       "      <th>text</th>\n",
       "      <th>title</th>\n",
       "      <th>language</th>\n",
       "    </tr>\n",
       "  </thead>\n",
       "  <tbody>\n",
       "    <tr>\n",
       "      <th>0</th>\n",
       "      <td>5ec806707db77e056c19b7d9</td>\n",
       "      <td>https://www.nieuwsblad.be/cnt/dmf20200522_0496...</td>\n",
       "      <td>2020-05-22T14:02:00.000Z</td>\n",
       "      <td>Koksijde - Nu de tweedeverblijvers naar de kus...</td>\n",
       "      <td>Burgemeester Koksijde wil informatie van conta...</td>\n",
       "      <td>nl</td>\n",
       "    </tr>\n",
       "    <tr>\n",
       "      <th>1</th>\n",
       "      <td>5ec8067060653ee843c32706</td>\n",
       "      <td>https://www.nieuwsblad.be/cnt/dmf20200519_0496...</td>\n",
       "      <td>2020-05-20T01:25:00.000Z</td>\n",
       "      <td>Luchtvaartmaatschappij EasyJet is getroffen do...</td>\n",
       "      <td>Gegevens 9 miljoen EasyJet-klanten gestolen</td>\n",
       "      <td>nl</td>\n",
       "    </tr>\n",
       "    <tr>\n",
       "      <th>2</th>\n",
       "      <td>5ec806708e00d85b900a3fd6</td>\n",
       "      <td>https://www.nieuwsblad.be/cnt/dmf20200519_0496...</td>\n",
       "      <td>2020-05-19T11:15:34.000Z</td>\n",
       "      <td>Vliegmaatschappij easyJet is getroffen door ee...</td>\n",
       "      <td>Easyjet heeft cyberaanval ondergaan: gegevens ...</td>\n",
       "      <td>nl</td>\n",
       "    </tr>\n",
       "    <tr>\n",
       "      <th>3</th>\n",
       "      <td>5ec80673b64548ac45316e2f</td>\n",
       "      <td>https://www.tijd.be/r/t/1/id/10227446</td>\n",
       "      <td>2020-05-15T23:00:03.000Z</td>\n",
       "      <td>De bedrijfsdata-expert Graydon berekende onlan...</td>\n",
       "      <td>Wat kunt u als ondernemer doen als de bank ‘ne...</td>\n",
       "      <td>nl</td>\n",
       "    </tr>\n",
       "    <tr>\n",
       "      <th>4</th>\n",
       "      <td>5ec80674d884dd1dc9f12bb1</td>\n",
       "      <td>https://www.tijd.be/r/t/1/id/10227443</td>\n",
       "      <td>2020-05-20T08:12:10.000Z</td>\n",
       "      <td>Passage uit een lezersbrief: ‘Mijn moeder is i...</td>\n",
       "      <td>Eindelijk regels voor snellere uitbetaling van...</td>\n",
       "      <td>nl</td>\n",
       "    </tr>\n",
       "    <tr>\n",
       "      <th>...</th>\n",
       "      <td>...</td>\n",
       "      <td>...</td>\n",
       "      <td>...</td>\n",
       "      <td>...</td>\n",
       "      <td>...</td>\n",
       "      <td>...</td>\n",
       "    </tr>\n",
       "    <tr>\n",
       "      <th>9788</th>\n",
       "      <td>64cbf1095dae7248fec79bbf</td>\n",
       "      <td>https://www.nieuwsblad.be/cnt/dmf20230803_9650...</td>\n",
       "      <td>2023-08-03T18:01:24.000Z</td>\n",
       "      <td>In de toekomst kunnen gebruikers persoonlijke,...</td>\n",
       "      <td>Google neemt extra maatregelen om gegevens van...</td>\n",
       "      <td>nl</td>\n",
       "    </tr>\n",
       "    <tr>\n",
       "      <th>9789</th>\n",
       "      <td>64cbf10b53c69f079d30ab3a</td>\n",
       "      <td>https://www.knack.be/sport/wielrennen/hoe-zwaa...</td>\n",
       "      <td>2023-08-03T15:30:00.000Z</td>\n",
       "      <td>Het WK-parcours in Glasgow is zeer apart, met ...</td>\n",
       "      <td>Hoe zwaar is het parcours van het WK wielrenne...</td>\n",
       "      <td>nl</td>\n",
       "    </tr>\n",
       "    <tr>\n",
       "      <th>9790</th>\n",
       "      <td>64cc294a5da43581c500f102</td>\n",
       "      <td>https://www.hbvl.be/cnt/dmf20230803_96674721</td>\n",
       "      <td>2023-08-03T18:32:14.000Z</td>\n",
       "      <td>In de toekomst kunnen gebruikers persoonlijke,...</td>\n",
       "      <td>Google neemt extra maatregelen om gegevens van...</td>\n",
       "      <td>nl</td>\n",
       "    </tr>\n",
       "    <tr>\n",
       "      <th>9791</th>\n",
       "      <td>64cc294be11aee08766cff24</td>\n",
       "      <td>https://www.knack.be/nieuws/wereld/nieuwe-stud...</td>\n",
       "      <td>2023-08-03T17:19:24.000Z</td>\n",
       "      <td>De reddingsoperaties voor migranten in het cen...</td>\n",
       "      <td>Nieuwe studie: Reddingsoperaties op zee moedig...</td>\n",
       "      <td>nl</td>\n",
       "    </tr>\n",
       "    <tr>\n",
       "      <th>9792</th>\n",
       "      <td>64cc99c9a8204c063a57e20a</td>\n",
       "      <td>https://www.standaard.be/cnt/dmf20230803_97329807</td>\n",
       "      <td>2023-08-04T03:00:00.000Z</td>\n",
       "      <td>De ontbossing van het regenwoud in Brazilië is...</td>\n",
       "      <td>Tempo ontbossing Amazonewoud neemt af</td>\n",
       "      <td>nl</td>\n",
       "    </tr>\n",
       "  </tbody>\n",
       "</table>\n",
       "<p>9793 rows × 6 columns</p>\n",
       "</div>"
      ],
      "text/plain": [
       "                           _id  \\\n",
       "0     5ec806707db77e056c19b7d9   \n",
       "1     5ec8067060653ee843c32706   \n",
       "2     5ec806708e00d85b900a3fd6   \n",
       "3     5ec80673b64548ac45316e2f   \n",
       "4     5ec80674d884dd1dc9f12bb1   \n",
       "...                        ...   \n",
       "9788  64cbf1095dae7248fec79bbf   \n",
       "9789  64cbf10b53c69f079d30ab3a   \n",
       "9790  64cc294a5da43581c500f102   \n",
       "9791  64cc294be11aee08766cff24   \n",
       "9792  64cc99c9a8204c063a57e20a   \n",
       "\n",
       "                                                    url  \\\n",
       "0     https://www.nieuwsblad.be/cnt/dmf20200522_0496...   \n",
       "1     https://www.nieuwsblad.be/cnt/dmf20200519_0496...   \n",
       "2     https://www.nieuwsblad.be/cnt/dmf20200519_0496...   \n",
       "3                 https://www.tijd.be/r/t/1/id/10227446   \n",
       "4                 https://www.tijd.be/r/t/1/id/10227443   \n",
       "...                                                 ...   \n",
       "9788  https://www.nieuwsblad.be/cnt/dmf20230803_9650...   \n",
       "9789  https://www.knack.be/sport/wielrennen/hoe-zwaa...   \n",
       "9790       https://www.hbvl.be/cnt/dmf20230803_96674721   \n",
       "9791  https://www.knack.be/nieuws/wereld/nieuwe-stud...   \n",
       "9792  https://www.standaard.be/cnt/dmf20230803_97329807   \n",
       "\n",
       "                          date  \\\n",
       "0     2020-05-22T14:02:00.000Z   \n",
       "1     2020-05-20T01:25:00.000Z   \n",
       "2     2020-05-19T11:15:34.000Z   \n",
       "3     2020-05-15T23:00:03.000Z   \n",
       "4     2020-05-20T08:12:10.000Z   \n",
       "...                        ...   \n",
       "9788  2023-08-03T18:01:24.000Z   \n",
       "9789  2023-08-03T15:30:00.000Z   \n",
       "9790  2023-08-03T18:32:14.000Z   \n",
       "9791  2023-08-03T17:19:24.000Z   \n",
       "9792  2023-08-04T03:00:00.000Z   \n",
       "\n",
       "                                                   text  \\\n",
       "0     Koksijde - Nu de tweedeverblijvers naar de kus...   \n",
       "1     Luchtvaartmaatschappij EasyJet is getroffen do...   \n",
       "2     Vliegmaatschappij easyJet is getroffen door ee...   \n",
       "3     De bedrijfsdata-expert Graydon berekende onlan...   \n",
       "4     Passage uit een lezersbrief: ‘Mijn moeder is i...   \n",
       "...                                                 ...   \n",
       "9788  In de toekomst kunnen gebruikers persoonlijke,...   \n",
       "9789  Het WK-parcours in Glasgow is zeer apart, met ...   \n",
       "9790  In de toekomst kunnen gebruikers persoonlijke,...   \n",
       "9791  De reddingsoperaties voor migranten in het cen...   \n",
       "9792  De ontbossing van het regenwoud in Brazilië is...   \n",
       "\n",
       "                                                  title language  \n",
       "0     Burgemeester Koksijde wil informatie van conta...       nl  \n",
       "1           Gegevens 9 miljoen EasyJet-klanten gestolen       nl  \n",
       "2     Easyjet heeft cyberaanval ondergaan: gegevens ...       nl  \n",
       "3     Wat kunt u als ondernemer doen als de bank ‘ne...       nl  \n",
       "4     Eindelijk regels voor snellere uitbetaling van...       nl  \n",
       "...                                                 ...      ...  \n",
       "9788  Google neemt extra maatregelen om gegevens van...       nl  \n",
       "9789  Hoe zwaar is het parcours van het WK wielrenne...       nl  \n",
       "9790  Google neemt extra maatregelen om gegevens van...       nl  \n",
       "9791  Nieuwe studie: Reddingsoperaties op zee moedig...       nl  \n",
       "9792              Tempo ontbossing Amazonewoud neemt af       nl  \n",
       "\n",
       "[9793 rows x 6 columns]"
      ]
     },
     "execution_count": 395,
     "metadata": {},
     "output_type": "execute_result"
    }
   ],
   "source": [
    "df_nl"
   ]
  },
  {
   "cell_type": "code",
   "execution_count": 402,
   "metadata": {},
   "outputs": [],
   "source": [
    "df_nl = df_nl[df_nl['language'] == 'nl']"
   ]
  },
  {
   "cell_type": "code",
   "execution_count": 403,
   "metadata": {},
   "outputs": [
    {
     "data": {
      "text/plain": [
       "9789"
      ]
     },
     "execution_count": 403,
     "metadata": {},
     "output_type": "execute_result"
    }
   ],
   "source": [
    "len(df_nl)"
   ]
  },
  {
   "cell_type": "code",
   "execution_count": 405,
   "metadata": {},
   "outputs": [
    {
     "data": {
      "text/html": [
       "<div>\n",
       "<style scoped>\n",
       "    .dataframe tbody tr th:only-of-type {\n",
       "        vertical-align: middle;\n",
       "    }\n",
       "\n",
       "    .dataframe tbody tr th {\n",
       "        vertical-align: top;\n",
       "    }\n",
       "\n",
       "    .dataframe thead th {\n",
       "        text-align: right;\n",
       "    }\n",
       "</style>\n",
       "<table border=\"1\" class=\"dataframe\">\n",
       "  <thead>\n",
       "    <tr style=\"text-align: right;\">\n",
       "      <th></th>\n",
       "      <th>_id</th>\n",
       "      <th>url</th>\n",
       "      <th>date</th>\n",
       "      <th>text</th>\n",
       "      <th>title</th>\n",
       "      <th>language</th>\n",
       "    </tr>\n",
       "  </thead>\n",
       "  <tbody>\n",
       "    <tr>\n",
       "      <th>0</th>\n",
       "      <td>5ec806707db77e056c19b7d9</td>\n",
       "      <td>https://www.nieuwsblad.be/cnt/dmf20200522_0496...</td>\n",
       "      <td>2020-05-22T14:02:00.000Z</td>\n",
       "      <td>Koksijde - Nu de tweedeverblijvers naar de kus...</td>\n",
       "      <td>Burgemeester Koksijde wil informatie van conta...</td>\n",
       "      <td>nl</td>\n",
       "    </tr>\n",
       "    <tr>\n",
       "      <th>1</th>\n",
       "      <td>5ec8067060653ee843c32706</td>\n",
       "      <td>https://www.nieuwsblad.be/cnt/dmf20200519_0496...</td>\n",
       "      <td>2020-05-20T01:25:00.000Z</td>\n",
       "      <td>Luchtvaartmaatschappij EasyJet is getroffen do...</td>\n",
       "      <td>Gegevens 9 miljoen EasyJet-klanten gestolen</td>\n",
       "      <td>nl</td>\n",
       "    </tr>\n",
       "    <tr>\n",
       "      <th>2</th>\n",
       "      <td>5ec806708e00d85b900a3fd6</td>\n",
       "      <td>https://www.nieuwsblad.be/cnt/dmf20200519_0496...</td>\n",
       "      <td>2020-05-19T11:15:34.000Z</td>\n",
       "      <td>Vliegmaatschappij easyJet is getroffen door ee...</td>\n",
       "      <td>Easyjet heeft cyberaanval ondergaan: gegevens ...</td>\n",
       "      <td>nl</td>\n",
       "    </tr>\n",
       "    <tr>\n",
       "      <th>3</th>\n",
       "      <td>5ec80673b64548ac45316e2f</td>\n",
       "      <td>https://www.tijd.be/r/t/1/id/10227446</td>\n",
       "      <td>2020-05-15T23:00:03.000Z</td>\n",
       "      <td>De bedrijfsdata-expert Graydon berekende onlan...</td>\n",
       "      <td>Wat kunt u als ondernemer doen als de bank ‘ne...</td>\n",
       "      <td>nl</td>\n",
       "    </tr>\n",
       "    <tr>\n",
       "      <th>4</th>\n",
       "      <td>5ec80674d884dd1dc9f12bb1</td>\n",
       "      <td>https://www.tijd.be/r/t/1/id/10227443</td>\n",
       "      <td>2020-05-20T08:12:10.000Z</td>\n",
       "      <td>Passage uit een lezersbrief: ‘Mijn moeder is i...</td>\n",
       "      <td>Eindelijk regels voor snellere uitbetaling van...</td>\n",
       "      <td>nl</td>\n",
       "    </tr>\n",
       "  </tbody>\n",
       "</table>\n",
       "</div>"
      ],
      "text/plain": [
       "                        _id  \\\n",
       "0  5ec806707db77e056c19b7d9   \n",
       "1  5ec8067060653ee843c32706   \n",
       "2  5ec806708e00d85b900a3fd6   \n",
       "3  5ec80673b64548ac45316e2f   \n",
       "4  5ec80674d884dd1dc9f12bb1   \n",
       "\n",
       "                                                 url  \\\n",
       "0  https://www.nieuwsblad.be/cnt/dmf20200522_0496...   \n",
       "1  https://www.nieuwsblad.be/cnt/dmf20200519_0496...   \n",
       "2  https://www.nieuwsblad.be/cnt/dmf20200519_0496...   \n",
       "3              https://www.tijd.be/r/t/1/id/10227446   \n",
       "4              https://www.tijd.be/r/t/1/id/10227443   \n",
       "\n",
       "                       date  \\\n",
       "0  2020-05-22T14:02:00.000Z   \n",
       "1  2020-05-20T01:25:00.000Z   \n",
       "2  2020-05-19T11:15:34.000Z   \n",
       "3  2020-05-15T23:00:03.000Z   \n",
       "4  2020-05-20T08:12:10.000Z   \n",
       "\n",
       "                                                text  \\\n",
       "0  Koksijde - Nu de tweedeverblijvers naar de kus...   \n",
       "1  Luchtvaartmaatschappij EasyJet is getroffen do...   \n",
       "2  Vliegmaatschappij easyJet is getroffen door ee...   \n",
       "3  De bedrijfsdata-expert Graydon berekende onlan...   \n",
       "4  Passage uit een lezersbrief: ‘Mijn moeder is i...   \n",
       "\n",
       "                                               title language  \n",
       "0  Burgemeester Koksijde wil informatie van conta...       nl  \n",
       "1        Gegevens 9 miljoen EasyJet-klanten gestolen       nl  \n",
       "2  Easyjet heeft cyberaanval ondergaan: gegevens ...       nl  \n",
       "3  Wat kunt u als ondernemer doen als de bank ‘ne...       nl  \n",
       "4  Eindelijk regels voor snellere uitbetaling van...       nl  "
      ]
     },
     "execution_count": 405,
     "metadata": {},
     "output_type": "execute_result"
    }
   ],
   "source": [
    "df_nl.head()"
   ]
  },
  {
   "cell_type": "code",
   "execution_count": 429,
   "metadata": {},
   "outputs": [],
   "source": [
    "df_nl = pd.read_csv('dutch_gegevens2.csv')"
   ]
  },
  {
   "cell_type": "code",
   "execution_count": 432,
   "metadata": {},
   "outputs": [],
   "source": [
    "languages= []\n",
    "for row in range(len(df_nl)):\n",
    "    languages.append(str(detect_langs(str((df_nl.iloc[row, 3])))))\n",
    "\n",
    "langs = [str(lang).split(':')[0][1:] for lang in languages]\n",
    "\n",
    "df_nl['language'] = langs\n",
    "df_nl = df_nl[df_nl['language'] == 'nl']\n",
    "\n",
    "\n",
    "\n"
   ]
  },
  {
   "cell_type": "code",
   "execution_count": 433,
   "metadata": {},
   "outputs": [],
   "source": [
    "ned_df = df_nl"
   ]
  },
  {
   "cell_type": "code",
   "execution_count": 438,
   "metadata": {},
   "outputs": [
    {
     "data": {
      "text/plain": [
       "9790"
      ]
     },
     "execution_count": 438,
     "metadata": {},
     "output_type": "execute_result"
    }
   ],
   "source": [
    "len(ned_df)"
   ]
  },
  {
   "cell_type": "code",
   "execution_count": 439,
   "metadata": {},
   "outputs": [],
   "source": [
    "df_nl = ned_df"
   ]
  },
  {
   "cell_type": "code",
   "execution_count": 440,
   "metadata": {},
   "outputs": [],
   "source": [
    "\n",
    "from textblob_nl import PatternTagger, PatternAnalyzer\n",
    "tb_nl = Blobber(pos_tagger=PatternTagger(), analyzer=PatternAnalyzer())\n",
    "\n",
    "# %%\n",
    "\n",
    "\n",
    "# %%\n",
    "df_nl = df_nl[['title', 'text', 'date', 'url', '_id', 'language']]\n",
    "\n",
    "\n",
    "# %%\n",
    "key_words_data = [\"persoonsgegevens\", \"gegevensgrondslag\", \"vertrouwelijkheid\", \"delen van gegevens\", \"toegang tot gegevens\", \"hergebruik van gegevens\", \"gebruik van gegevens\", \"gegevensanalyse\", \"gebruik van gegevens\", \"gegevensbescherming\", \"data\", \"data use\" ,\"data reusability\", \"data reuse\", \"data sharing\", \"data access\", \"data privacy\", \"data protection\", \"data analytics\", \"Chat GPT\", \"GPT\", \"OpenAI\", \"ChatGPT\", \"Big Data\", \"Big data\", \"big data\",\n",
    "\"data hergebruik\",\n",
    "\"hergebruik van data\",\n",
    "\"delen van data\",\n",
    "\"toeganag tot data\",\n",
    "\"data geheim houding\",\n",
    "\"bescherming van data\", 'sociale netwerken', 'internet']\n",
    "\n",
    "\n",
    "# %%\n",
    "list_data = []\n",
    "for row in range(len(df)):\n",
    "    if any(word in str(df_nl.iloc[row, 1]) for word in key_words_data):\n",
    "        if str(df_nl.iloc[row, 1]) not in list_data:\n",
    "            list_data.append(str(df_nl.iloc[row, 1]))\n",
    "\n",
    "\n",
    "# %%\n",
    "df_nl = df_nl[df_nl['text'].isin(list_data)]\n",
    "\n",
    "# %%\n",
    "df_nl = df_nl.drop_duplicates(subset=['text'])\n",
    "\n",
    "\n",
    "# %%\n",
    "def get_polarity_fr(doc):\n",
    "        polarity = tb_nl(doc).sentiment[0]\n",
    "        return polarity\n",
    "\n",
    "# %%\n",
    "polarity_list = []\n",
    "for row in range(len(df_nl)): \n",
    "    polarity_list.append(round(get_polarity_fr(str(df_nl.iloc[row,1])),5))\n",
    "    \n",
    "\n",
    "\n",
    "# %%\n",
    "df_nl['polarity'] = polarity_list\n",
    "\n",
    "\n",
    "# %%\n",
    "#df_nl['language'] = 'nl'\n",
    "\n",
    "\n",
    "# %%\n",
    "import re\n",
    "\n",
    "# %%\n",
    "def change_year(column):\n",
    "    def find_year(s: str):\n",
    "            matcher = re.search('\\d\\d\\d\\d',str(s))\n",
    "            \n",
    "            return int(matcher.group(0))\n",
    "            \n",
    "    column = column.apply(find_year)\n",
    "    return column\n",
    "\n",
    "# %%\n",
    "df_nl['date'] = change_year(df['date'])\n",
    "\n",
    "\n",
    "\n",
    "\n",
    "\n"
   ]
  },
  {
   "cell_type": "code",
   "execution_count": 441,
   "metadata": {},
   "outputs": [
    {
     "data": {
      "text/plain": [
       "1152"
      ]
     },
     "execution_count": 441,
     "metadata": {},
     "output_type": "execute_result"
    }
   ],
   "source": [
    "len(df_nl)"
   ]
  },
  {
   "cell_type": "code",
   "execution_count": 442,
   "metadata": {},
   "outputs": [],
   "source": [
    "frames = [df_fr, df_nl]\n",
    "gen_df = pd.concat(frames)"
   ]
  },
  {
   "cell_type": "code",
   "execution_count": 443,
   "metadata": {},
   "outputs": [
    {
     "data": {
      "text/plain": [
       "6586"
      ]
     },
     "execution_count": 443,
     "metadata": {},
     "output_type": "execute_result"
    }
   ],
   "source": [
    "len(gen_df)"
   ]
  },
  {
   "cell_type": "code",
   "execution_count": 444,
   "metadata": {},
   "outputs": [
    {
     "data": {
      "text/plain": [
       "array(['fr', 'nl'], dtype=object)"
      ]
     },
     "execution_count": 444,
     "metadata": {},
     "output_type": "execute_result"
    }
   ],
   "source": [
    "gen_df['language'].unique()"
   ]
  },
  {
   "cell_type": "code",
   "execution_count": 445,
   "metadata": {},
   "outputs": [
    {
     "data": {
      "text/plain": [
       "0.041518836805555556"
      ]
     },
     "execution_count": 445,
     "metadata": {},
     "output_type": "execute_result"
    }
   ],
   "source": [
    "df_nl['polarity'].mean()"
   ]
  },
  {
   "cell_type": "code",
   "execution_count": 446,
   "metadata": {},
   "outputs": [
    {
     "data": {
      "text/plain": [
       "0.029201353449041928"
      ]
     },
     "execution_count": 446,
     "metadata": {},
     "output_type": "execute_result"
    }
   ],
   "source": [
    "df_fr['polarity'].mean()"
   ]
  },
  {
   "cell_type": "code",
   "execution_count": 447,
   "metadata": {},
   "outputs": [
    {
     "data": {
      "text/html": [
       "<div>\n",
       "<style scoped>\n",
       "    .dataframe tbody tr th:only-of-type {\n",
       "        vertical-align: middle;\n",
       "    }\n",
       "\n",
       "    .dataframe tbody tr th {\n",
       "        vertical-align: top;\n",
       "    }\n",
       "\n",
       "    .dataframe thead th {\n",
       "        text-align: right;\n",
       "    }\n",
       "</style>\n",
       "<table border=\"1\" class=\"dataframe\">\n",
       "  <thead>\n",
       "    <tr style=\"text-align: right;\">\n",
       "      <th></th>\n",
       "      <th>_id</th>\n",
       "      <th>title</th>\n",
       "      <th>text</th>\n",
       "      <th>date</th>\n",
       "      <th>url</th>\n",
       "      <th>polarity</th>\n",
       "      <th>language</th>\n",
       "    </tr>\n",
       "  </thead>\n",
       "  <tbody>\n",
       "    <tr>\n",
       "      <th>0</th>\n",
       "      <td>5ec760338ae8910eece4965c</td>\n",
       "      <td>9 millions de clients concernés par une cybera...</td>\n",
       "      <td>Dans un faible nombre de cas, les pirates ont ...</td>\n",
       "      <td>2020</td>\n",
       "      <td>https://plus.lesoir.be/301778/article/2020-05-...</td>\n",
       "      <td>0.0</td>\n",
       "      <td>fr</td>\n",
       "    </tr>\n",
       "  </tbody>\n",
       "</table>\n",
       "</div>"
      ],
      "text/plain": [
       "                        _id  \\\n",
       "0  5ec760338ae8910eece4965c   \n",
       "\n",
       "                                               title  \\\n",
       "0  9 millions de clients concernés par une cybera...   \n",
       "\n",
       "                                                text  date  \\\n",
       "0  Dans un faible nombre de cas, les pirates ont ...  2020   \n",
       "\n",
       "                                                 url  polarity language  \n",
       "0  https://plus.lesoir.be/301778/article/2020-05-...       0.0       fr  "
      ]
     },
     "execution_count": 447,
     "metadata": {},
     "output_type": "execute_result"
    }
   ],
   "source": [
    "df_fr.head(1)"
   ]
  },
  {
   "cell_type": "code",
   "execution_count": 450,
   "metadata": {},
   "outputs": [],
   "source": [
    "import matplotlib.pyplot as plt"
   ]
  },
  {
   "cell_type": "code",
   "execution_count": 536,
   "metadata": {},
   "outputs": [
    {
     "data": {
      "text/plain": [
       "<Axes: ylabel='Frequency'>"
      ]
     },
     "execution_count": 536,
     "metadata": {},
     "output_type": "execute_result"
    },
    {
     "data": {
      "image/png": "[encoded data removed]",
      "text/plain": [
       "<Figure size 640x480 with 1 Axes>"
      ]
     },
     "metadata": {},
     "output_type": "display_data"
    }
   ],
   "source": [
    "df_fr['polarity'].plot(kind ='hist')"
   ]
  },
  {
   "cell_type": "code",
   "execution_count": 537,
   "metadata": {},
   "outputs": [
    {
     "data": {
      "text/plain": [
       "<Axes: ylabel='Frequency'>"
      ]
     },
     "execution_count": 537,
     "metadata": {},
     "output_type": "execute_result"
    },
    {
     "data": {
      "image/png": "[encoded data removed]",
      "text/plain": [
       "<Figure size 640x480 with 1 Axes>"
      ]
     },
     "metadata": {},
     "output_type": "display_data"
    }
   ],
   "source": [
    "gen_df['polarity'].plot(kind = 'hist')"
   ]
  },
  {
   "cell_type": "code",
   "execution_count": 511,
   "metadata": {},
   "outputs": [],
   "source": [
    "fr_pol = df_fr.groupby(['date'])['polarity'].mean()"
   ]
  },
  {
   "cell_type": "code",
   "execution_count": 512,
   "metadata": {},
   "outputs": [],
   "source": [
    "nl_pol = df_nl.groupby(['date'])['polarity'].mean()"
   ]
  },
  {
   "cell_type": "code",
   "execution_count": 534,
   "metadata": {},
   "outputs": [
    {
     "data": {
      "image/png": "[encoded data removed]",
      "text/plain": [
       "<Figure size 640x480 with 1 Axes>"
      ]
     },
     "metadata": {},
     "output_type": "display_data"
    }
   ],
   "source": [
    "ax1 = fr_pol.plot( kind = 'bar',  title = 'Polarity in french and dutch news per year', label = 'French')\n",
    "ax2 = nl_pol.plot( kind = 'bar', title = 'Polarity in dutch news per year', label = 'Dutch')\n",
    "plt.ylabel('Year')\n",
    "plt.xlabel('Polarity')\n",
    "plt.show()\n"
   ]
  },
  {
   "cell_type": "code",
   "execution_count": null,
   "metadata": {},
   "outputs": [],
   "source": []
  }
 ],
 "metadata": {
  "kernelspec": {
   "display_name": "Python 3.11.3 ('prez': venv)",
   "language": "python",
   "name": "python3"
  },
  "language_info": {
   "codemirror_mode": {
    "name": "ipython",
    "version": 3
   },
   "file_extension": ".py",
   "mimetype": "text/x-python",
   "name": "python",
   "nbconvert_exporter": "python",
   "pygments_lexer": "ipython3",
   "version": "3.11.3"
  },
  "orig_nbformat": 4,
  "vscode": {
   "interpreter": {
    "hash": "fe4a16402ecb4456cd3a87bc27630e6918310df49c247015aa286d8d4e1233a5"
   }
  }
 },
 "nbformat": 4,
 "nbformat_minor": 2
}
